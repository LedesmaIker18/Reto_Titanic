{
 "cells": [
  {
   "cell_type": "markdown",
   "metadata": {},
   "source": [
    "# Titanic - Machine Learning from Disaster\n",
    "\n",
    "The competition is simple: use machine learning to create a model that predicts which passengers survived the Titanic shipwreck.\n",
    "\n",
    "## The challenge\n",
    "\n",
    "The sinking of the Titanic is one of the most infamous shipwrecks in history.\n",
    "\n",
    "On April 15, 1912, during her maiden voyage, the widely considered “unsinkable” RMS Titanic sank after colliding with an iceberg. Unfortunately, there weren’t enough lifeboats for everyone onboard, resulting in the death of 1502 out of 2224 passengers and crew.\n",
    "\n",
    "While there was some element of luck involved in surviving, it seems some groups of people were more likely to survive than others.\n",
    "\n",
    "In this challenge, we ask you to build a predictive model that answers the question: “what sorts of people were more likely to survive?” using passenger data (ie name, age, gender, socio-economic class, etc).\n",
    "\n",
    "## The data\n",
    "\n",
    "| Variable | Definition | Key |\n",
    "| --- | --- | --- |\n",
    "| survival | Survival | 0 = No, 1 = Yes |\n",
    "| pclass | Ticket class\t| 1 = 1st, 2 = 2nd, 3 = 3rd |\n",
    "| sex | Sex |\t\n",
    "| Age | Age in years |\t\n",
    "| sibsp | # of siblings / spouses aboard the Titanic |\t\n",
    "| parch | # of parents / children aboard the Titanic |\t\n",
    "| ticket | Ticket number |\t\n",
    "| fare | Passenger fare\t|\n",
    "| cabin\t| Cabin number |\n",
    "| embarked | Port of Embarkation | C = Cherbourg, Q = Queenstown, S = Southampton |\n",
    "\n",
    "**pclass**: A proxy for socio-economic status (SES)\n",
    "\n",
    "* 1st = Upper\n",
    "* 2nd = Middle\n",
    "* 3rd = Lower\n",
    "\n",
    "**age**: Age is fractional if less than 1. If the age is estimated, is it in the form of xx.5\n",
    "\n",
    "**sibsp**: The dataset defines family relations in this way...\n",
    "\n",
    "* Sibling = brother, sister, stepbrother, stepsister\n",
    "* Spouse = husband, wife (mistresses and fiancés were ignored)\n",
    "\n",
    "**parch**: The dataset defines family relations in this way...\n",
    "\n",
    "* Parent = mother, father\n",
    "* Child = daughter, son, stepdaughter, stepson\n",
    "* Some children travelled only with a nanny, therefore parch=0 for them.\n"
   ]
  },
  {
   "cell_type": "markdown",
   "metadata": {},
   "source": [
    "# Importing libraries"
   ]
  },
  {
   "cell_type": "code",
   "execution_count": 824,
   "metadata": {},
   "outputs": [],
   "source": [
    "import pandas               as pd\n",
    "import numpy                as np \n",
    "import matplotlib.pyplot    as plt\n",
    "import seaborn              as sns\n",
    "\n",
    "from sklearn import svm, tree, linear_model, neighbors, naive_bayes, ensemble, discriminant_analysis, gaussian_process, metrics\n",
    "from sklearn.preprocessing import StandardScaler, LabelEncoder\n",
    "from sklearn.linear_model import LogisticRegression, Perceptron\n",
    "from sklearn.ensemble import RandomForestClassifier\n",
    "from sklearn.neighbors import KNeighborsClassifier\n",
    "from xgboost import XGBClassifier\n",
    "from sklearn.naive_bayes import GaussianNB\n",
    "from sklearn.metrics import confusion_matrix\n",
    "from sklearn.model_selection import train_test_split, KFold, cross_val_score, cross_val_predict, cross_validate, GridSearchCV\n",
    "from sklearn import feature_selection, model_selection, metrics\n",
    "from sklearn.metrics import r2_score, mean_absolute_error, mean_squared_error"
   ]
  },
  {
   "cell_type": "markdown",
   "metadata": {},
   "source": [
    "# EDA"
   ]
  },
  {
   "cell_type": "code",
   "execution_count": 825,
   "metadata": {},
   "outputs": [],
   "source": [
    "train = pd.read_csv('train.csv')\n",
    "test = pd.read_csv('test.csv')\n",
    "all_data = pd.concat([train, test], axis=0, join='outer', ignore_index=False)"
   ]
  },
  {
   "cell_type": "code",
   "execution_count": 826,
   "metadata": {},
   "outputs": [
    {
     "data": {
      "text/html": [
       "<div>\n",
       "<style scoped>\n",
       "    .dataframe tbody tr th:only-of-type {\n",
       "        vertical-align: middle;\n",
       "    }\n",
       "\n",
       "    .dataframe tbody tr th {\n",
       "        vertical-align: top;\n",
       "    }\n",
       "\n",
       "    .dataframe thead th {\n",
       "        text-align: right;\n",
       "    }\n",
       "</style>\n",
       "<table border=\"1\" class=\"dataframe\">\n",
       "  <thead>\n",
       "    <tr style=\"text-align: right;\">\n",
       "      <th></th>\n",
       "      <th>PassengerId</th>\n",
       "      <th>Survived</th>\n",
       "      <th>Pclass</th>\n",
       "      <th>Name</th>\n",
       "      <th>Sex</th>\n",
       "      <th>Age</th>\n",
       "      <th>SibSp</th>\n",
       "      <th>Parch</th>\n",
       "      <th>Ticket</th>\n",
       "      <th>Fare</th>\n",
       "      <th>Cabin</th>\n",
       "      <th>Embarked</th>\n",
       "    </tr>\n",
       "  </thead>\n",
       "  <tbody>\n",
       "    <tr>\n",
       "      <th>0</th>\n",
       "      <td>1</td>\n",
       "      <td>0.0</td>\n",
       "      <td>3</td>\n",
       "      <td>Braund, Mr. Owen Harris</td>\n",
       "      <td>male</td>\n",
       "      <td>22.0</td>\n",
       "      <td>1</td>\n",
       "      <td>0</td>\n",
       "      <td>A/5 21171</td>\n",
       "      <td>7.2500</td>\n",
       "      <td>NaN</td>\n",
       "      <td>S</td>\n",
       "    </tr>\n",
       "    <tr>\n",
       "      <th>1</th>\n",
       "      <td>2</td>\n",
       "      <td>1.0</td>\n",
       "      <td>1</td>\n",
       "      <td>Cumings, Mrs. John Bradley (Florence Briggs Th...</td>\n",
       "      <td>female</td>\n",
       "      <td>38.0</td>\n",
       "      <td>1</td>\n",
       "      <td>0</td>\n",
       "      <td>PC 17599</td>\n",
       "      <td>71.2833</td>\n",
       "      <td>C85</td>\n",
       "      <td>C</td>\n",
       "    </tr>\n",
       "    <tr>\n",
       "      <th>2</th>\n",
       "      <td>3</td>\n",
       "      <td>1.0</td>\n",
       "      <td>3</td>\n",
       "      <td>Heikkinen, Miss. Laina</td>\n",
       "      <td>female</td>\n",
       "      <td>26.0</td>\n",
       "      <td>0</td>\n",
       "      <td>0</td>\n",
       "      <td>STON/O2. 3101282</td>\n",
       "      <td>7.9250</td>\n",
       "      <td>NaN</td>\n",
       "      <td>S</td>\n",
       "    </tr>\n",
       "    <tr>\n",
       "      <th>3</th>\n",
       "      <td>4</td>\n",
       "      <td>1.0</td>\n",
       "      <td>1</td>\n",
       "      <td>Futrelle, Mrs. Jacques Heath (Lily May Peel)</td>\n",
       "      <td>female</td>\n",
       "      <td>35.0</td>\n",
       "      <td>1</td>\n",
       "      <td>0</td>\n",
       "      <td>113803</td>\n",
       "      <td>53.1000</td>\n",
       "      <td>C123</td>\n",
       "      <td>S</td>\n",
       "    </tr>\n",
       "    <tr>\n",
       "      <th>4</th>\n",
       "      <td>5</td>\n",
       "      <td>0.0</td>\n",
       "      <td>3</td>\n",
       "      <td>Allen, Mr. William Henry</td>\n",
       "      <td>male</td>\n",
       "      <td>35.0</td>\n",
       "      <td>0</td>\n",
       "      <td>0</td>\n",
       "      <td>373450</td>\n",
       "      <td>8.0500</td>\n",
       "      <td>NaN</td>\n",
       "      <td>S</td>\n",
       "    </tr>\n",
       "    <tr>\n",
       "      <th>...</th>\n",
       "      <td>...</td>\n",
       "      <td>...</td>\n",
       "      <td>...</td>\n",
       "      <td>...</td>\n",
       "      <td>...</td>\n",
       "      <td>...</td>\n",
       "      <td>...</td>\n",
       "      <td>...</td>\n",
       "      <td>...</td>\n",
       "      <td>...</td>\n",
       "      <td>...</td>\n",
       "      <td>...</td>\n",
       "    </tr>\n",
       "    <tr>\n",
       "      <th>413</th>\n",
       "      <td>1305</td>\n",
       "      <td>NaN</td>\n",
       "      <td>3</td>\n",
       "      <td>Spector, Mr. Woolf</td>\n",
       "      <td>male</td>\n",
       "      <td>NaN</td>\n",
       "      <td>0</td>\n",
       "      <td>0</td>\n",
       "      <td>A.5. 3236</td>\n",
       "      <td>8.0500</td>\n",
       "      <td>NaN</td>\n",
       "      <td>S</td>\n",
       "    </tr>\n",
       "    <tr>\n",
       "      <th>414</th>\n",
       "      <td>1306</td>\n",
       "      <td>NaN</td>\n",
       "      <td>1</td>\n",
       "      <td>Oliva y Ocana, Dona. Fermina</td>\n",
       "      <td>female</td>\n",
       "      <td>39.0</td>\n",
       "      <td>0</td>\n",
       "      <td>0</td>\n",
       "      <td>PC 17758</td>\n",
       "      <td>108.9000</td>\n",
       "      <td>C105</td>\n",
       "      <td>C</td>\n",
       "    </tr>\n",
       "    <tr>\n",
       "      <th>415</th>\n",
       "      <td>1307</td>\n",
       "      <td>NaN</td>\n",
       "      <td>3</td>\n",
       "      <td>Saether, Mr. Simon Sivertsen</td>\n",
       "      <td>male</td>\n",
       "      <td>38.5</td>\n",
       "      <td>0</td>\n",
       "      <td>0</td>\n",
       "      <td>SOTON/O.Q. 3101262</td>\n",
       "      <td>7.2500</td>\n",
       "      <td>NaN</td>\n",
       "      <td>S</td>\n",
       "    </tr>\n",
       "    <tr>\n",
       "      <th>416</th>\n",
       "      <td>1308</td>\n",
       "      <td>NaN</td>\n",
       "      <td>3</td>\n",
       "      <td>Ware, Mr. Frederick</td>\n",
       "      <td>male</td>\n",
       "      <td>NaN</td>\n",
       "      <td>0</td>\n",
       "      <td>0</td>\n",
       "      <td>359309</td>\n",
       "      <td>8.0500</td>\n",
       "      <td>NaN</td>\n",
       "      <td>S</td>\n",
       "    </tr>\n",
       "    <tr>\n",
       "      <th>417</th>\n",
       "      <td>1309</td>\n",
       "      <td>NaN</td>\n",
       "      <td>3</td>\n",
       "      <td>Peter, Master. Michael J</td>\n",
       "      <td>male</td>\n",
       "      <td>NaN</td>\n",
       "      <td>1</td>\n",
       "      <td>1</td>\n",
       "      <td>2668</td>\n",
       "      <td>22.3583</td>\n",
       "      <td>NaN</td>\n",
       "      <td>C</td>\n",
       "    </tr>\n",
       "  </tbody>\n",
       "</table>\n",
       "<p>1309 rows × 12 columns</p>\n",
       "</div>"
      ],
      "text/plain": [
       "     PassengerId  Survived  Pclass  \\\n",
       "0              1       0.0       3   \n",
       "1              2       1.0       1   \n",
       "2              3       1.0       3   \n",
       "3              4       1.0       1   \n",
       "4              5       0.0       3   \n",
       "..           ...       ...     ...   \n",
       "413         1305       NaN       3   \n",
       "414         1306       NaN       1   \n",
       "415         1307       NaN       3   \n",
       "416         1308       NaN       3   \n",
       "417         1309       NaN       3   \n",
       "\n",
       "                                                  Name     Sex   Age  SibSp  \\\n",
       "0                              Braund, Mr. Owen Harris    male  22.0      1   \n",
       "1    Cumings, Mrs. John Bradley (Florence Briggs Th...  female  38.0      1   \n",
       "2                               Heikkinen, Miss. Laina  female  26.0      0   \n",
       "3         Futrelle, Mrs. Jacques Heath (Lily May Peel)  female  35.0      1   \n",
       "4                             Allen, Mr. William Henry    male  35.0      0   \n",
       "..                                                 ...     ...   ...    ...   \n",
       "413                                 Spector, Mr. Woolf    male   NaN      0   \n",
       "414                       Oliva y Ocana, Dona. Fermina  female  39.0      0   \n",
       "415                       Saether, Mr. Simon Sivertsen    male  38.5      0   \n",
       "416                                Ware, Mr. Frederick    male   NaN      0   \n",
       "417                           Peter, Master. Michael J    male   NaN      1   \n",
       "\n",
       "     Parch              Ticket      Fare Cabin Embarked  \n",
       "0        0           A/5 21171    7.2500   NaN        S  \n",
       "1        0            PC 17599   71.2833   C85        C  \n",
       "2        0    STON/O2. 3101282    7.9250   NaN        S  \n",
       "3        0              113803   53.1000  C123        S  \n",
       "4        0              373450    8.0500   NaN        S  \n",
       "..     ...                 ...       ...   ...      ...  \n",
       "413      0           A.5. 3236    8.0500   NaN        S  \n",
       "414      0            PC 17758  108.9000  C105        C  \n",
       "415      0  SOTON/O.Q. 3101262    7.2500   NaN        S  \n",
       "416      0              359309    8.0500   NaN        S  \n",
       "417      1                2668   22.3583   NaN        C  \n",
       "\n",
       "[1309 rows x 12 columns]"
      ]
     },
     "execution_count": 826,
     "metadata": {},
     "output_type": "execute_result"
    }
   ],
   "source": [
    "all_data"
   ]
  },
  {
   "cell_type": "code",
   "execution_count": 827,
   "metadata": {},
   "outputs": [
    {
     "name": "stdout",
     "output_type": "stream",
     "text": [
      "Summary: \n",
      "        count   mean    std   min   25%    50%    75%     max\n",
      "Age    1046.0  29.88  14.41  0.17  21.0  28.00  39.00   80.00\n",
      "SibSp  1309.0   0.50   1.04  0.00   0.0   0.00   1.00    8.00\n",
      "Parch  1309.0   0.39   0.87  0.00   0.0   0.00   0.00    9.00\n",
      "Fare   1308.0  33.30  51.76  0.00   7.9  14.45  31.28  512.33\n",
      "Numerical variables: \n",
      "\tPassengerId\n",
      "\tSurvived\n",
      "\tPclass\n",
      "\tAge\n",
      "\tSibSp\n",
      "\tParch\n",
      "\tFare\n",
      "Categorical variables: \n",
      "\tName\n",
      "\tSex\n",
      "\tTicket\n",
      "\tCabin\n",
      "\tEmbarked\n",
      "Missing data count: \n",
      "Survived     418\n",
      "Age          263\n",
      "Fare           1\n",
      "Cabin       1014\n",
      "Embarked       2\n",
      "dtype: int64\n"
     ]
    }
   ],
   "source": [
    "print('Summary: ')\n",
    "print(round(all_data[['Age', 'SibSp', 'Parch', 'Fare']].describe().transpose(), 2))\n",
    "\n",
    "print('Numerical variables: ')\n",
    "for x in all_data.select_dtypes(exclude=['object']):\n",
    "    print('\\t'+x)\n",
    "\n",
    "print('Categorical variables: ')\n",
    "for x in all_data.select_dtypes(include=['object']):\n",
    "    print('\\t'+x)\n",
    "\n",
    "print('Missing data count: ')\n",
    "missing_data = all_data.isna().sum()\n",
    "print(missing_data[missing_data>0])"
   ]
  },
  {
   "cell_type": "code",
   "execution_count": 828,
   "metadata": {},
   "outputs": [
    {
     "data": {
      "text/html": [
       "<div>\n",
       "<style scoped>\n",
       "    .dataframe tbody tr th:only-of-type {\n",
       "        vertical-align: middle;\n",
       "    }\n",
       "\n",
       "    .dataframe tbody tr th {\n",
       "        vertical-align: top;\n",
       "    }\n",
       "\n",
       "    .dataframe thead th {\n",
       "        text-align: right;\n",
       "    }\n",
       "</style>\n",
       "<table border=\"1\" class=\"dataframe\">\n",
       "  <thead>\n",
       "    <tr style=\"text-align: right;\">\n",
       "      <th></th>\n",
       "      <th>PassengerId</th>\n",
       "      <th>Pclass</th>\n",
       "      <th>Age</th>\n",
       "      <th>SibSp</th>\n",
       "      <th>Parch</th>\n",
       "      <th>Fare</th>\n",
       "    </tr>\n",
       "    <tr>\n",
       "      <th>Survived</th>\n",
       "      <th></th>\n",
       "      <th></th>\n",
       "      <th></th>\n",
       "      <th></th>\n",
       "      <th></th>\n",
       "      <th></th>\n",
       "    </tr>\n",
       "  </thead>\n",
       "  <tbody>\n",
       "    <tr>\n",
       "      <th>0</th>\n",
       "      <td>447.016393</td>\n",
       "      <td>2.531876</td>\n",
       "      <td>30.626179</td>\n",
       "      <td>0.553734</td>\n",
       "      <td>0.329690</td>\n",
       "      <td>22.117887</td>\n",
       "    </tr>\n",
       "    <tr>\n",
       "      <th>1</th>\n",
       "      <td>444.368421</td>\n",
       "      <td>1.950292</td>\n",
       "      <td>28.343690</td>\n",
       "      <td>0.473684</td>\n",
       "      <td>0.464912</td>\n",
       "      <td>48.395408</td>\n",
       "    </tr>\n",
       "  </tbody>\n",
       "</table>\n",
       "</div>"
      ],
      "text/plain": [
       "          PassengerId    Pclass        Age     SibSp     Parch       Fare\n",
       "Survived                                                                 \n",
       "0          447.016393  2.531876  30.626179  0.553734  0.329690  22.117887\n",
       "1          444.368421  1.950292  28.343690  0.473684  0.464912  48.395408"
      ]
     },
     "execution_count": 828,
     "metadata": {},
     "output_type": "execute_result"
    }
   ],
   "source": [
    "train.groupby(by='Survived').mean()"
   ]
  },
  {
   "cell_type": "markdown",
   "metadata": {},
   "source": [
    "## Numeric variables"
   ]
  },
  {
   "cell_type": "code",
   "execution_count": 829,
   "metadata": {},
   "outputs": [
    {
     "data": {
      "image/png": "[encoded data removed]",
      "text/plain": [
       "<Figure size 432x288 with 1 Axes>"
      ]
     },
     "metadata": {
      "needs_background": "light"
     },
     "output_type": "display_data"
    }
   ],
   "source": [
    "sns.histplot(data=train, x='Age', hue='Survived', multiple=\"stack\")\n",
    "plt.title('Age count')\n",
    "plt.xlabel('Age');"
   ]
  },
  {
   "cell_type": "code",
   "execution_count": 830,
   "metadata": {},
   "outputs": [
    {
     "data": {
      "image/png": "[encoded data removed]",
      "text/plain": [
       "<Figure size 432x288 with 1 Axes>"
      ]
     },
     "metadata": {
      "needs_background": "light"
     },
     "output_type": "display_data"
    }
   ],
   "source": [
    "sns.histplot(data=train, x='Fare', hue='Survived', multiple=\"stack\", bins = 20)\n",
    "plt.title('Fare count')\n",
    "plt.xlabel('Fare')\n",
    "plt.show()"
   ]
  },
  {
   "cell_type": "code",
   "execution_count": 831,
   "metadata": {},
   "outputs": [
    {
     "data": {
      "image/png": "[encoded data removed]",
      "text/plain": [
       "<Figure size 771.875x360 with 2 Axes>"
      ]
     },
     "metadata": {
      "needs_background": "light"
     },
     "output_type": "display_data"
    }
   ],
   "source": [
    "sns.relplot(x='Age', y='Fare', data=train, kind='scatter', hue='Survived', col='Sex');"
   ]
  },
  {
   "cell_type": "code",
   "execution_count": 832,
   "metadata": {},
   "outputs": [
    {
     "data": {
      "image/png": "[encoded data removed]",
      "text/plain": [
       "<Figure size 1131.88x360 with 3 Axes>"
      ]
     },
     "metadata": {
      "needs_background": "light"
     },
     "output_type": "display_data"
    }
   ],
   "source": [
    "sns.relplot(x='Age', y='Fare', data=train, kind='scatter', hue='Survived', col='Pclass');"
   ]
  },
  {
   "cell_type": "markdown",
   "metadata": {},
   "source": [
    "### Detecting Outliers"
   ]
  },
  {
   "cell_type": "code",
   "execution_count": 833,
   "metadata": {},
   "outputs": [
    {
     "data": {
      "image/png": "[encoded data removed]",
      "text/plain": [
       "<Figure size 432x288 with 1 Axes>"
      ]
     },
     "metadata": {
      "needs_background": "light"
     },
     "output_type": "display_data"
    }
   ],
   "source": [
    "sns.boxplot(y='Age', data=train);"
   ]
  },
  {
   "cell_type": "code",
   "execution_count": 834,
   "metadata": {},
   "outputs": [
    {
     "data": {
      "image/png": "[encoded data removed]",
      "text/plain": [
       "<Figure size 432x288 with 1 Axes>"
      ]
     },
     "metadata": {
      "needs_background": "light"
     },
     "output_type": "display_data"
    }
   ],
   "source": [
    "sns.boxplot(y='Fare', data=train);"
   ]
  },
  {
   "cell_type": "code",
   "execution_count": 835,
   "metadata": {},
   "outputs": [
    {
     "data": {
      "image/png": "[encoded data removed]",
      "text/plain": [
       "<Figure size 432x288 with 1 Axes>"
      ]
     },
     "metadata": {
      "needs_background": "light"
     },
     "output_type": "display_data"
    }
   ],
   "source": [
    "sns.boxplot(y='SibSp', data=train);"
   ]
  },
  {
   "cell_type": "code",
   "execution_count": 836,
   "metadata": {},
   "outputs": [
    {
     "data": {
      "image/png": "[encoded data removed]",
      "text/plain": [
       "<Figure size 432x288 with 1 Axes>"
      ]
     },
     "metadata": {
      "needs_background": "light"
     },
     "output_type": "display_data"
    }
   ],
   "source": [
    "sns.boxplot(y='Parch', data=train);"
   ]
  },
  {
   "cell_type": "markdown",
   "metadata": {},
   "source": [
    "## Categorical variables"
   ]
  },
  {
   "cell_type": "code",
   "execution_count": 837,
   "metadata": {},
   "outputs": [
    {
     "data": {
      "text/plain": [
       "Survived      2\n",
       "Pclass        3\n",
       "Sex           2\n",
       "Cabin       186\n",
       "Embarked      3\n",
       "dtype: int64"
      ]
     },
     "execution_count": 837,
     "metadata": {},
     "output_type": "execute_result"
    }
   ],
   "source": [
    "categorical = ['Survived', 'Pclass', 'Sex', 'Cabin', 'Embarked']\n",
    "all_data[categorical].astype('category')\n",
    "all_data[categorical].nunique()"
   ]
  },
  {
   "cell_type": "code",
   "execution_count": 838,
   "metadata": {},
   "outputs": [
    {
     "data": {
      "image/png": "[encoded data removed]",
      "text/plain": [
       "<Figure size 432x288 with 1 Axes>"
      ]
     },
     "metadata": {
      "needs_background": "light"
     },
     "output_type": "display_data"
    }
   ],
   "source": [
    "sns.set_palette('Pastel1')\n",
    "sns.countplot(data=train, x='Survived')\n",
    "plt.title('Survived count');"
   ]
  },
  {
   "cell_type": "code",
   "execution_count": 839,
   "metadata": {},
   "outputs": [
    {
     "data": {
      "image/png": "[encoded data removed]",
      "text/plain": [
       "<Figure size 430.5x360 with 1 Axes>"
      ]
     },
     "metadata": {
      "needs_background": "light"
     },
     "output_type": "display_data"
    }
   ],
   "source": [
    "sns.catplot(x=\"Survived\", data=train, kind=\"count\", hue=\"Sex\")\n",
    "plt.title('Survived by gender');"
   ]
  },
  {
   "cell_type": "code",
   "execution_count": 840,
   "metadata": {},
   "outputs": [
    {
     "data": {
      "image/png": "[encoded data removed]",
      "text/plain": [
       "<Figure size 402.375x360 with 1 Axes>"
      ]
     },
     "metadata": {
      "needs_background": "light"
     },
     "output_type": "display_data"
    }
   ],
   "source": [
    "sns.catplot(x=\"Survived\", data=train, kind=\"count\", hue=\"Pclass\")\n",
    "plt.title('Survived by class');"
   ]
  },
  {
   "cell_type": "code",
   "execution_count": 841,
   "metadata": {},
   "outputs": [
    {
     "data": {
      "text/html": [
       "<style type=\"text/css\">\n",
       "#T_e02cf_row0_col0, #T_e02cf_row1_col2 {\n",
       "  background-color: #fffdc8;\n",
       "  color: #000000;\n",
       "}\n",
       "#T_e02cf_row0_col1 {\n",
       "  background-color: #ffe58f;\n",
       "  color: #000000;\n",
       "}\n",
       "#T_e02cf_row0_col2 {\n",
       "  background-color: #fff8ba;\n",
       "  color: #000000;\n",
       "}\n",
       "#T_e02cf_row0_col3 {\n",
       "  background-color: #ffe997;\n",
       "  color: #000000;\n",
       "}\n",
       "#T_e02cf_row0_col4, #T_e02cf_row2_col3 {\n",
       "  background-color: #fff2ac;\n",
       "  color: #000000;\n",
       "}\n",
       "#T_e02cf_row1_col0, #T_e02cf_row3_col0, #T_e02cf_row3_col1, #T_e02cf_row3_col2, #T_e02cf_row3_col3, #T_e02cf_row3_col4, #T_e02cf_row4_col0, #T_e02cf_row4_col2, #T_e02cf_row4_col3, #T_e02cf_row4_col4 {\n",
       "  background-color: #ffffcc;\n",
       "  color: #000000;\n",
       "}\n",
       "#T_e02cf_row1_col1, #T_e02cf_row6_col0 {\n",
       "  background-color: #fffcc4;\n",
       "  color: #000000;\n",
       "}\n",
       "#T_e02cf_row1_col3, #T_e02cf_row1_col4 {\n",
       "  background-color: #fffdc6;\n",
       "  color: #000000;\n",
       "}\n",
       "#T_e02cf_row2_col0, #T_e02cf_row5_col1 {\n",
       "  background-color: #fff1a9;\n",
       "  color: #000000;\n",
       "}\n",
       "#T_e02cf_row2_col1 {\n",
       "  background-color: #fff7b7;\n",
       "  color: #000000;\n",
       "}\n",
       "#T_e02cf_row2_col2 {\n",
       "  background-color: #fff5b5;\n",
       "  color: #000000;\n",
       "}\n",
       "#T_e02cf_row2_col4, #T_e02cf_row7_col0 {\n",
       "  background-color: #fff5b3;\n",
       "  color: #000000;\n",
       "}\n",
       "#T_e02cf_row4_col1 {\n",
       "  background-color: #fffecb;\n",
       "  color: #000000;\n",
       "}\n",
       "#T_e02cf_row5_col0 {\n",
       "  background-color: #ffefa5;\n",
       "  color: #000000;\n",
       "}\n",
       "#T_e02cf_row5_col2 {\n",
       "  background-color: #fff4b2;\n",
       "  color: #000000;\n",
       "}\n",
       "#T_e02cf_row5_col3 {\n",
       "  background-color: #fffbc2;\n",
       "  color: #000000;\n",
       "}\n",
       "#T_e02cf_row5_col4 {\n",
       "  background-color: #fff4b0;\n",
       "  color: #000000;\n",
       "}\n",
       "#T_e02cf_row6_col1 {\n",
       "  background-color: #fee288;\n",
       "  color: #000000;\n",
       "}\n",
       "#T_e02cf_row6_col2 {\n",
       "  background-color: #fff0a7;\n",
       "  color: #000000;\n",
       "}\n",
       "#T_e02cf_row6_col3 {\n",
       "  background-color: #fed774;\n",
       "  color: #000000;\n",
       "}\n",
       "#T_e02cf_row6_col4 {\n",
       "  background-color: #ffea9b;\n",
       "  color: #000000;\n",
       "}\n",
       "#T_e02cf_row7_col1 {\n",
       "  background-color: #fed673;\n",
       "  color: #000000;\n",
       "}\n",
       "#T_e02cf_row7_col2 {\n",
       "  background-color: #ffe590;\n",
       "  color: #000000;\n",
       "}\n",
       "#T_e02cf_row7_col3, #T_e02cf_row8_col1 {\n",
       "  background-color: #ffeb9c;\n",
       "  color: #000000;\n",
       "}\n",
       "#T_e02cf_row7_col4 {\n",
       "  background-color: #ffe48d;\n",
       "  color: #000000;\n",
       "}\n",
       "#T_e02cf_row8_col0 {\n",
       "  background-color: #f13824;\n",
       "  color: #f1f1f1;\n",
       "}\n",
       "#T_e02cf_row8_col2 {\n",
       "  background-color: #fd8f3d;\n",
       "  color: #f1f1f1;\n",
       "}\n",
       "#T_e02cf_row8_col3 {\n",
       "  background-color: #fec662;\n",
       "  color: #000000;\n",
       "}\n",
       "#T_e02cf_row8_col4 {\n",
       "  background-color: #feac49;\n",
       "  color: #000000;\n",
       "}\n",
       "#T_e02cf_row9_col0, #T_e02cf_row9_col1, #T_e02cf_row9_col2, #T_e02cf_row9_col3, #T_e02cf_row9_col4 {\n",
       "  background-color: #800026;\n",
       "  color: #f1f1f1;\n",
       "}\n",
       "</style>\n",
       "<table id=\"T_e02cf\">\n",
       "  <thead>\n",
       "    <tr>\n",
       "      <th class=\"blank\" >&nbsp;</th>\n",
       "      <th class=\"index_name level0\" >Sex</th>\n",
       "      <th id=\"T_e02cf_level0_col0\" class=\"col_heading level0 col0\" colspan=\"2\">female</th>\n",
       "      <th id=\"T_e02cf_level0_col2\" class=\"col_heading level0 col2\" colspan=\"2\">male</th>\n",
       "      <th id=\"T_e02cf_level0_col4\" class=\"col_heading level0 col4\" >All</th>\n",
       "    </tr>\n",
       "    <tr>\n",
       "      <th class=\"blank\" >&nbsp;</th>\n",
       "      <th class=\"index_name level1\" >Survived</th>\n",
       "      <th id=\"T_e02cf_level1_col0\" class=\"col_heading level1 col0\" >0</th>\n",
       "      <th id=\"T_e02cf_level1_col1\" class=\"col_heading level1 col1\" >1</th>\n",
       "      <th id=\"T_e02cf_level1_col2\" class=\"col_heading level1 col2\" >0</th>\n",
       "      <th id=\"T_e02cf_level1_col3\" class=\"col_heading level1 col3\" >1</th>\n",
       "      <th id=\"T_e02cf_level1_col4\" class=\"col_heading level1 col4\" ></th>\n",
       "    </tr>\n",
       "    <tr>\n",
       "      <th class=\"index_name level0\" >Embarked</th>\n",
       "      <th class=\"index_name level1\" >Pclass</th>\n",
       "      <th class=\"blank col0\" >&nbsp;</th>\n",
       "      <th class=\"blank col1\" >&nbsp;</th>\n",
       "      <th class=\"blank col2\" >&nbsp;</th>\n",
       "      <th class=\"blank col3\" >&nbsp;</th>\n",
       "      <th class=\"blank col4\" >&nbsp;</th>\n",
       "    </tr>\n",
       "  </thead>\n",
       "  <tbody>\n",
       "    <tr>\n",
       "      <th id=\"T_e02cf_level0_row0\" class=\"row_heading level0 row0\" rowspan=\"3\">C</th>\n",
       "      <th id=\"T_e02cf_level1_row0\" class=\"row_heading level1 row0\" >1</th>\n",
       "      <td id=\"T_e02cf_row0_col0\" class=\"data row0 col0\" >1</td>\n",
       "      <td id=\"T_e02cf_row0_col1\" class=\"data row0 col1\" >42</td>\n",
       "      <td id=\"T_e02cf_row0_col2\" class=\"data row0 col2\" >25</td>\n",
       "      <td id=\"T_e02cf_row0_col3\" class=\"data row0 col3\" >17</td>\n",
       "      <td id=\"T_e02cf_row0_col4\" class=\"data row0 col4\" >85</td>\n",
       "    </tr>\n",
       "    <tr>\n",
       "      <th id=\"T_e02cf_level1_row1\" class=\"row_heading level1 row1\" >2</th>\n",
       "      <td id=\"T_e02cf_row1_col0\" class=\"data row1 col0\" >0</td>\n",
       "      <td id=\"T_e02cf_row1_col1\" class=\"data row1 col1\" >7</td>\n",
       "      <td id=\"T_e02cf_row1_col2\" class=\"data row1 col2\" >8</td>\n",
       "      <td id=\"T_e02cf_row1_col3\" class=\"data row1 col3\" >2</td>\n",
       "      <td id=\"T_e02cf_row1_col4\" class=\"data row1 col4\" >17</td>\n",
       "    </tr>\n",
       "    <tr>\n",
       "      <th id=\"T_e02cf_level1_row2\" class=\"row_heading level1 row2\" >3</th>\n",
       "      <td id=\"T_e02cf_row2_col0\" class=\"data row2 col0\" >8</td>\n",
       "      <td id=\"T_e02cf_row2_col1\" class=\"data row2 col1\" >15</td>\n",
       "      <td id=\"T_e02cf_row2_col2\" class=\"data row2 col2\" >33</td>\n",
       "      <td id=\"T_e02cf_row2_col3\" class=\"data row2 col3\" >10</td>\n",
       "      <td id=\"T_e02cf_row2_col4\" class=\"data row2 col4\" >66</td>\n",
       "    </tr>\n",
       "    <tr>\n",
       "      <th id=\"T_e02cf_level0_row3\" class=\"row_heading level0 row3\" rowspan=\"3\">Q</th>\n",
       "      <th id=\"T_e02cf_level1_row3\" class=\"row_heading level1 row3\" >1</th>\n",
       "      <td id=\"T_e02cf_row3_col0\" class=\"data row3 col0\" >0</td>\n",
       "      <td id=\"T_e02cf_row3_col1\" class=\"data row3 col1\" >1</td>\n",
       "      <td id=\"T_e02cf_row3_col2\" class=\"data row3 col2\" >1</td>\n",
       "      <td id=\"T_e02cf_row3_col3\" class=\"data row3 col3\" >0</td>\n",
       "      <td id=\"T_e02cf_row3_col4\" class=\"data row3 col4\" >2</td>\n",
       "    </tr>\n",
       "    <tr>\n",
       "      <th id=\"T_e02cf_level1_row4\" class=\"row_heading level1 row4\" >2</th>\n",
       "      <td id=\"T_e02cf_row4_col0\" class=\"data row4 col0\" >0</td>\n",
       "      <td id=\"T_e02cf_row4_col1\" class=\"data row4 col1\" >2</td>\n",
       "      <td id=\"T_e02cf_row4_col2\" class=\"data row4 col2\" >1</td>\n",
       "      <td id=\"T_e02cf_row4_col3\" class=\"data row4 col3\" >0</td>\n",
       "      <td id=\"T_e02cf_row4_col4\" class=\"data row4 col4\" >3</td>\n",
       "    </tr>\n",
       "    <tr>\n",
       "      <th id=\"T_e02cf_level1_row5\" class=\"row_heading level1 row5\" >3</th>\n",
       "      <td id=\"T_e02cf_row5_col0\" class=\"data row5 col0\" >9</td>\n",
       "      <td id=\"T_e02cf_row5_col1\" class=\"data row5 col1\" >24</td>\n",
       "      <td id=\"T_e02cf_row5_col2\" class=\"data row5 col2\" >36</td>\n",
       "      <td id=\"T_e02cf_row5_col3\" class=\"data row5 col3\" >3</td>\n",
       "      <td id=\"T_e02cf_row5_col4\" class=\"data row5 col4\" >72</td>\n",
       "    </tr>\n",
       "    <tr>\n",
       "      <th id=\"T_e02cf_level0_row6\" class=\"row_heading level0 row6\" rowspan=\"3\">S</th>\n",
       "      <th id=\"T_e02cf_level1_row6\" class=\"row_heading level1 row6\" >1</th>\n",
       "      <td id=\"T_e02cf_row6_col0\" class=\"data row6 col0\" >2</td>\n",
       "      <td id=\"T_e02cf_row6_col1\" class=\"data row6 col1\" >46</td>\n",
       "      <td id=\"T_e02cf_row6_col2\" class=\"data row6 col2\" >51</td>\n",
       "      <td id=\"T_e02cf_row6_col3\" class=\"data row6 col3\" >28</td>\n",
       "      <td id=\"T_e02cf_row6_col4\" class=\"data row6 col4\" >127</td>\n",
       "    </tr>\n",
       "    <tr>\n",
       "      <th id=\"T_e02cf_level1_row7\" class=\"row_heading level1 row7\" >2</th>\n",
       "      <td id=\"T_e02cf_row7_col0\" class=\"data row7 col0\" >6</td>\n",
       "      <td id=\"T_e02cf_row7_col1\" class=\"data row7 col1\" >61</td>\n",
       "      <td id=\"T_e02cf_row7_col2\" class=\"data row7 col2\" >82</td>\n",
       "      <td id=\"T_e02cf_row7_col3\" class=\"data row7 col3\" >15</td>\n",
       "      <td id=\"T_e02cf_row7_col4\" class=\"data row7 col4\" >164</td>\n",
       "    </tr>\n",
       "    <tr>\n",
       "      <th id=\"T_e02cf_level1_row8\" class=\"row_heading level1 row8\" >3</th>\n",
       "      <td id=\"T_e02cf_row8_col0\" class=\"data row8 col0\" >55</td>\n",
       "      <td id=\"T_e02cf_row8_col1\" class=\"data row8 col1\" >33</td>\n",
       "      <td id=\"T_e02cf_row8_col2\" class=\"data row8 col2\" >231</td>\n",
       "      <td id=\"T_e02cf_row8_col3\" class=\"data row8 col3\" >34</td>\n",
       "      <td id=\"T_e02cf_row8_col4\" class=\"data row8 col4\" >353</td>\n",
       "    </tr>\n",
       "    <tr>\n",
       "      <th id=\"T_e02cf_level0_row9\" class=\"row_heading level0 row9\" >All</th>\n",
       "      <th id=\"T_e02cf_level1_row9\" class=\"row_heading level1 row9\" ></th>\n",
       "      <td id=\"T_e02cf_row9_col0\" class=\"data row9 col0\" >81</td>\n",
       "      <td id=\"T_e02cf_row9_col1\" class=\"data row9 col1\" >231</td>\n",
       "      <td id=\"T_e02cf_row9_col2\" class=\"data row9 col2\" >468</td>\n",
       "      <td id=\"T_e02cf_row9_col3\" class=\"data row9 col3\" >109</td>\n",
       "      <td id=\"T_e02cf_row9_col4\" class=\"data row9 col4\" >889</td>\n",
       "    </tr>\n",
       "  </tbody>\n",
       "</table>\n"
      ],
      "text/plain": [
       "<pandas.io.formats.style.Styler at 0x1c4ace20b20>"
      ]
     },
     "execution_count": 841,
     "metadata": {},
     "output_type": "execute_result"
    }
   ],
   "source": [
    "pd.crosstab([train['Embarked'], train['Pclass']], [train['Sex'], train['Survived']], margins=True).style.background_gradient(cmap='YlOrRd')"
   ]
  },
  {
   "cell_type": "code",
   "execution_count": 842,
   "metadata": {},
   "outputs": [],
   "source": [
    "all_data['Cabin'].fillna(\"X\", inplace = True)\n",
    "all_data['Section'] = all_data['Cabin'].str.slice(0, 1)\n",
    "train['Section'] = all_data['Section'][:891]\n",
    "test['Section'] = all_data['Section'][891:]"
   ]
  },
  {
   "cell_type": "code",
   "execution_count": 843,
   "metadata": {},
   "outputs": [
    {
     "data": {
      "text/html": [
       "<style type=\"text/css\">\n",
       "#T_de529_row0_col0 {\n",
       "  background-color: #feaf4b;\n",
       "  color: #000000;\n",
       "}\n",
       "#T_de529_row0_col1 {\n",
       "  background-color: #fc532b;\n",
       "  color: #f1f1f1;\n",
       "}\n",
       "#T_de529_row1_col0 {\n",
       "  background-color: #fffdc6;\n",
       "  color: #000000;\n",
       "}\n",
       "#T_de529_row1_col1 {\n",
       "  background-color: #880026;\n",
       "  color: #f1f1f1;\n",
       "}\n",
       "#T_de529_row2_col0 {\n",
       "  background-color: #fede82;\n",
       "  color: #000000;\n",
       "}\n",
       "#T_de529_row2_col1 {\n",
       "  background-color: #d9131f;\n",
       "  color: #f1f1f1;\n",
       "}\n",
       "#T_de529_row3_col0, #T_de529_row7_col1 {\n",
       "  background-color: #ffffcc;\n",
       "  color: #000000;\n",
       "}\n",
       "#T_de529_row3_col1, #T_de529_row7_col0 {\n",
       "  background-color: #800026;\n",
       "  color: #f1f1f1;\n",
       "}\n",
       "#T_de529_row4_col0 {\n",
       "  background-color: #fffec9;\n",
       "  color: #000000;\n",
       "}\n",
       "#T_de529_row4_col1 {\n",
       "  background-color: #840026;\n",
       "  color: #f1f1f1;\n",
       "}\n",
       "#T_de529_row5_col0 {\n",
       "  background-color: #fee38b;\n",
       "  color: #000000;\n",
       "}\n",
       "#T_de529_row5_col1 {\n",
       "  background-color: #d00d21;\n",
       "  color: #f1f1f1;\n",
       "}\n",
       "#T_de529_row6_col0 {\n",
       "  background-color: #febd57;\n",
       "  color: #000000;\n",
       "}\n",
       "#T_de529_row6_col1 {\n",
       "  background-color: #f54026;\n",
       "  color: #f1f1f1;\n",
       "}\n",
       "#T_de529_row8_col0 {\n",
       "  background-color: #fc592d;\n",
       "  color: #f1f1f1;\n",
       "}\n",
       "#T_de529_row8_col1 {\n",
       "  background-color: #feac49;\n",
       "  color: #000000;\n",
       "}\n",
       "</style>\n",
       "<table id=\"T_de529\">\n",
       "  <thead>\n",
       "    <tr>\n",
       "      <th class=\"index_name level0\" >Survived</th>\n",
       "      <th id=\"T_de529_level0_col0\" class=\"col_heading level0 col0\" >0</th>\n",
       "      <th id=\"T_de529_level0_col1\" class=\"col_heading level0 col1\" >1</th>\n",
       "    </tr>\n",
       "    <tr>\n",
       "      <th class=\"index_name level0\" >Section</th>\n",
       "      <th class=\"blank col0\" >&nbsp;</th>\n",
       "      <th class=\"blank col1\" >&nbsp;</th>\n",
       "    </tr>\n",
       "  </thead>\n",
       "  <tbody>\n",
       "    <tr>\n",
       "      <th id=\"T_de529_level0_row0\" class=\"row_heading level0 row0\" >A</th>\n",
       "      <td id=\"T_de529_row0_col0\" class=\"data row0 col0\" >0.533333</td>\n",
       "      <td id=\"T_de529_row0_col1\" class=\"data row0 col1\" >0.466667</td>\n",
       "    </tr>\n",
       "    <tr>\n",
       "      <th id=\"T_de529_level0_row1\" class=\"row_heading level0 row1\" >B</th>\n",
       "      <td id=\"T_de529_row1_col0\" class=\"data row1 col0\" >0.255319</td>\n",
       "      <td id=\"T_de529_row1_col1\" class=\"data row1 col1\" >0.744681</td>\n",
       "    </tr>\n",
       "    <tr>\n",
       "      <th id=\"T_de529_level0_row2\" class=\"row_heading level0 row2\" >C</th>\n",
       "      <td id=\"T_de529_row2_col0\" class=\"data row2 col0\" >0.406780</td>\n",
       "      <td id=\"T_de529_row2_col1\" class=\"data row2 col1\" >0.593220</td>\n",
       "    </tr>\n",
       "    <tr>\n",
       "      <th id=\"T_de529_level0_row3\" class=\"row_heading level0 row3\" >D</th>\n",
       "      <td id=\"T_de529_row3_col0\" class=\"data row3 col0\" >0.242424</td>\n",
       "      <td id=\"T_de529_row3_col1\" class=\"data row3 col1\" >0.757576</td>\n",
       "    </tr>\n",
       "    <tr>\n",
       "      <th id=\"T_de529_level0_row4\" class=\"row_heading level0 row4\" >E</th>\n",
       "      <td id=\"T_de529_row4_col0\" class=\"data row4 col0\" >0.250000</td>\n",
       "      <td id=\"T_de529_row4_col1\" class=\"data row4 col1\" >0.750000</td>\n",
       "    </tr>\n",
       "    <tr>\n",
       "      <th id=\"T_de529_level0_row5\" class=\"row_heading level0 row5\" >F</th>\n",
       "      <td id=\"T_de529_row5_col0\" class=\"data row5 col0\" >0.384615</td>\n",
       "      <td id=\"T_de529_row5_col1\" class=\"data row5 col1\" >0.615385</td>\n",
       "    </tr>\n",
       "    <tr>\n",
       "      <th id=\"T_de529_level0_row6\" class=\"row_heading level0 row6\" >G</th>\n",
       "      <td id=\"T_de529_row6_col0\" class=\"data row6 col0\" >0.500000</td>\n",
       "      <td id=\"T_de529_row6_col1\" class=\"data row6 col1\" >0.500000</td>\n",
       "    </tr>\n",
       "    <tr>\n",
       "      <th id=\"T_de529_level0_row7\" class=\"row_heading level0 row7\" >T</th>\n",
       "      <td id=\"T_de529_row7_col0\" class=\"data row7 col0\" >1.000000</td>\n",
       "      <td id=\"T_de529_row7_col1\" class=\"data row7 col1\" >0.000000</td>\n",
       "    </tr>\n",
       "    <tr>\n",
       "      <th id=\"T_de529_level0_row8\" class=\"row_heading level0 row8\" >X</th>\n",
       "      <td id=\"T_de529_row8_col0\" class=\"data row8 col0\" >0.700146</td>\n",
       "      <td id=\"T_de529_row8_col1\" class=\"data row8 col1\" >0.299854</td>\n",
       "    </tr>\n",
       "  </tbody>\n",
       "</table>\n"
      ],
      "text/plain": [
       "<pandas.io.formats.style.Styler at 0x1c4ace209a0>"
      ]
     },
     "execution_count": 843,
     "metadata": {},
     "output_type": "execute_result"
    }
   ],
   "source": [
    "pd.crosstab([train['Section']], [train['Survived']], margins=False, normalize='index').style.background_gradient(cmap='YlOrRd')"
   ]
  },
  {
   "cell_type": "markdown",
   "metadata": {},
   "source": [
    "# Data cleaning"
   ]
  },
  {
   "cell_type": "markdown",
   "metadata": {},
   "source": [
    "## Missing data"
   ]
  },
  {
   "cell_type": "code",
   "execution_count": 844,
   "metadata": {},
   "outputs": [
    {
     "data": {
      "text/plain": [
       "Title\n",
       "Capt          1\n",
       "Col           4\n",
       "Countess      1\n",
       "Don           1\n",
       "Dona          1\n",
       "Dr            8\n",
       "Jonkheer      1\n",
       "Lady          1\n",
       "Major         2\n",
       "Master       61\n",
       "Miss        260\n",
       "Mlle          2\n",
       "Mme           1\n",
       "Mr          757\n",
       "Mrs         197\n",
       "Ms            2\n",
       "Rev           8\n",
       "Sir           1\n",
       "dtype: int64"
      ]
     },
     "execution_count": 844,
     "metadata": {},
     "output_type": "execute_result"
    }
   ],
   "source": [
    "all_data['Title'] = all_data['Name']\n",
    "for name in all_data['Name']:\n",
    "    all_data['Title'] = all_data['Name'].str.extract('([A-Za-z]+)\\.', expand=True)\n",
    "all_data.groupby(['Title']).size()"
   ]
  },
  {
   "cell_type": "code",
   "execution_count": 845,
   "metadata": {},
   "outputs": [],
   "source": [
    "title_remap = {'Capt':'Mr', 'Col':'Mr', 'Countess':'Mrs', 'Don':'Mr', 'Dona':'Mrs', 'Jonkheer':'Master', 'Lady':'Mrs', 'Major':'Mr', 'Mlle':'Miss', 'Mme':'Mrs', 'Ms':'Mrs', 'Sir':'Mr'}\n",
    "all_data.replace({'Title': title_remap}, inplace=True)\n",
    "main_titles = ['Dr', 'Master', 'Miss', 'Mr', 'Mrs', 'Rev']\n",
    "for title in main_titles:\n",
    "    imputed_age = all_data.groupby(['Title'])['Age'].median()[main_titles.index(title)]\n",
    "    all_data.loc[(all_data['Age'].isna()) & (all_data['Title'] == title), 'Age'] = imputed_age\n",
    "train['Age'] = all_data['Age'][:891]\n",
    "test['Age'] = all_data['Age'][:891]"
   ]
  },
  {
   "cell_type": "code",
   "execution_count": 846,
   "metadata": {},
   "outputs": [],
   "source": [
    "all_data['Embarked'].fillna(all_data['Embarked'].mode()[0], inplace=True)\n",
    "all_data['Fare'].fillna(all_data['Fare'].median(), inplace=True)\n",
    "train['Embarked'] = all_data['Embarked'][:891]\n",
    "test['Fare'] = all_data['Fare'][:891]"
   ]
  },
  {
   "cell_type": "markdown",
   "metadata": {},
   "source": [
    "## Feature engineering"
   ]
  },
  {
   "cell_type": "code",
   "execution_count": 847,
   "metadata": {},
   "outputs": [
    {
     "data": {
      "text/html": [
       "<div>\n",
       "<style scoped>\n",
       "    .dataframe tbody tr th:only-of-type {\n",
       "        vertical-align: middle;\n",
       "    }\n",
       "\n",
       "    .dataframe tbody tr th {\n",
       "        vertical-align: top;\n",
       "    }\n",
       "\n",
       "    .dataframe thead th {\n",
       "        text-align: right;\n",
       "    }\n",
       "</style>\n",
       "<table border=\"1\" class=\"dataframe\">\n",
       "  <thead>\n",
       "    <tr style=\"text-align: right;\">\n",
       "      <th></th>\n",
       "      <th>Survived</th>\n",
       "    </tr>\n",
       "    <tr>\n",
       "      <th>Pclass</th>\n",
       "      <th></th>\n",
       "    </tr>\n",
       "  </thead>\n",
       "  <tbody>\n",
       "    <tr>\n",
       "      <th>1</th>\n",
       "      <td>0.629630</td>\n",
       "    </tr>\n",
       "    <tr>\n",
       "      <th>2</th>\n",
       "      <td>0.472826</td>\n",
       "    </tr>\n",
       "    <tr>\n",
       "      <th>3</th>\n",
       "      <td>0.242363</td>\n",
       "    </tr>\n",
       "  </tbody>\n",
       "</table>\n",
       "</div>"
      ],
      "text/plain": [
       "        Survived\n",
       "Pclass          \n",
       "1       0.629630\n",
       "2       0.472826\n",
       "3       0.242363"
      ]
     },
     "execution_count": 847,
     "metadata": {},
     "output_type": "execute_result"
    }
   ],
   "source": [
    "train[['Pclass', 'Survived']].groupby(['Pclass']).mean()"
   ]
  },
  {
   "cell_type": "code",
   "execution_count": 848,
   "metadata": {},
   "outputs": [
    {
     "data": {
      "text/html": [
       "<div>\n",
       "<style scoped>\n",
       "    .dataframe tbody tr th:only-of-type {\n",
       "        vertical-align: middle;\n",
       "    }\n",
       "\n",
       "    .dataframe tbody tr th {\n",
       "        vertical-align: top;\n",
       "    }\n",
       "\n",
       "    .dataframe thead th {\n",
       "        text-align: right;\n",
       "    }\n",
       "</style>\n",
       "<table border=\"1\" class=\"dataframe\">\n",
       "  <thead>\n",
       "    <tr style=\"text-align: right;\">\n",
       "      <th></th>\n",
       "      <th>Survived</th>\n",
       "    </tr>\n",
       "    <tr>\n",
       "      <th>Sex</th>\n",
       "      <th></th>\n",
       "    </tr>\n",
       "  </thead>\n",
       "  <tbody>\n",
       "    <tr>\n",
       "      <th>female</th>\n",
       "      <td>0.742038</td>\n",
       "    </tr>\n",
       "    <tr>\n",
       "      <th>male</th>\n",
       "      <td>0.188908</td>\n",
       "    </tr>\n",
       "  </tbody>\n",
       "</table>\n",
       "</div>"
      ],
      "text/plain": [
       "        Survived\n",
       "Sex             \n",
       "female  0.742038\n",
       "male    0.188908"
      ]
     },
     "execution_count": 848,
     "metadata": {},
     "output_type": "execute_result"
    }
   ],
   "source": [
    "train[['Sex', 'Survived']].groupby(['Sex']).mean()"
   ]
  },
  {
   "cell_type": "code",
   "execution_count": 849,
   "metadata": {},
   "outputs": [
    {
     "data": {
      "text/html": [
       "<div>\n",
       "<style scoped>\n",
       "    .dataframe tbody tr th:only-of-type {\n",
       "        vertical-align: middle;\n",
       "    }\n",
       "\n",
       "    .dataframe tbody tr th {\n",
       "        vertical-align: top;\n",
       "    }\n",
       "\n",
       "    .dataframe thead th {\n",
       "        text-align: right;\n",
       "    }\n",
       "</style>\n",
       "<table border=\"1\" class=\"dataframe\">\n",
       "  <thead>\n",
       "    <tr style=\"text-align: right;\">\n",
       "      <th></th>\n",
       "      <th>Survived</th>\n",
       "    </tr>\n",
       "    <tr>\n",
       "      <th>FamilySize</th>\n",
       "      <th></th>\n",
       "    </tr>\n",
       "  </thead>\n",
       "  <tbody>\n",
       "    <tr>\n",
       "      <th>1</th>\n",
       "      <td>0.303538</td>\n",
       "    </tr>\n",
       "    <tr>\n",
       "      <th>2</th>\n",
       "      <td>0.552795</td>\n",
       "    </tr>\n",
       "    <tr>\n",
       "      <th>3</th>\n",
       "      <td>0.578431</td>\n",
       "    </tr>\n",
       "    <tr>\n",
       "      <th>4</th>\n",
       "      <td>0.724138</td>\n",
       "    </tr>\n",
       "    <tr>\n",
       "      <th>5</th>\n",
       "      <td>0.200000</td>\n",
       "    </tr>\n",
       "    <tr>\n",
       "      <th>6</th>\n",
       "      <td>0.136364</td>\n",
       "    </tr>\n",
       "    <tr>\n",
       "      <th>7</th>\n",
       "      <td>0.333333</td>\n",
       "    </tr>\n",
       "    <tr>\n",
       "      <th>8</th>\n",
       "      <td>0.000000</td>\n",
       "    </tr>\n",
       "    <tr>\n",
       "      <th>11</th>\n",
       "      <td>0.000000</td>\n",
       "    </tr>\n",
       "  </tbody>\n",
       "</table>\n",
       "</div>"
      ],
      "text/plain": [
       "            Survived\n",
       "FamilySize          \n",
       "1           0.303538\n",
       "2           0.552795\n",
       "3           0.578431\n",
       "4           0.724138\n",
       "5           0.200000\n",
       "6           0.136364\n",
       "7           0.333333\n",
       "8           0.000000\n",
       "11          0.000000"
      ]
     },
     "execution_count": 849,
     "metadata": {},
     "output_type": "execute_result"
    }
   ],
   "source": [
    "all_data['FamilySize'] = all_data['Parch']+all_data['SibSp']+1\n",
    "train['FamilySize'] = all_data['FamilySize'][:891]\n",
    "test['FamilySize'] = all_data['FamilySize'][891:]\n",
    "train[['FamilySize', 'Survived']].groupby(['FamilySize']).mean()"
   ]
  },
  {
   "cell_type": "code",
   "execution_count": 850,
   "metadata": {},
   "outputs": [
    {
     "data": {
      "text/html": [
       "<div>\n",
       "<style scoped>\n",
       "    .dataframe tbody tr th:only-of-type {\n",
       "        vertical-align: middle;\n",
       "    }\n",
       "\n",
       "    .dataframe tbody tr th {\n",
       "        vertical-align: top;\n",
       "    }\n",
       "\n",
       "    .dataframe thead th {\n",
       "        text-align: right;\n",
       "    }\n",
       "</style>\n",
       "<table border=\"1\" class=\"dataframe\">\n",
       "  <thead>\n",
       "    <tr style=\"text-align: right;\">\n",
       "      <th></th>\n",
       "      <th>Survived</th>\n",
       "    </tr>\n",
       "    <tr>\n",
       "      <th>Alone</th>\n",
       "      <th></th>\n",
       "    </tr>\n",
       "  </thead>\n",
       "  <tbody>\n",
       "    <tr>\n",
       "      <th>0</th>\n",
       "      <td>0.505650</td>\n",
       "    </tr>\n",
       "    <tr>\n",
       "      <th>1</th>\n",
       "      <td>0.303538</td>\n",
       "    </tr>\n",
       "  </tbody>\n",
       "</table>\n",
       "</div>"
      ],
      "text/plain": [
       "       Survived\n",
       "Alone          \n",
       "0      0.505650\n",
       "1      0.303538"
      ]
     },
     "execution_count": 850,
     "metadata": {},
     "output_type": "execute_result"
    }
   ],
   "source": [
    "all_data.assign(Alone=0)\n",
    "all_data.loc[all_data['FamilySize'] == 1, 'Alone'] = 1\n",
    "all_data.loc[all_data['FamilySize'] > 1, 'Alone'] = 0\n",
    "train['Alone'] = all_data['Alone'][:891].astype(int)\n",
    "test['Alone'] = all_data['Alone'][891:].astype(int)\n",
    "train[['Alone', 'Survived']].groupby(['Alone']).mean()"
   ]
  },
  {
   "cell_type": "code",
   "execution_count": 851,
   "metadata": {},
   "outputs": [
    {
     "data": {
      "text/html": [
       "<div>\n",
       "<style scoped>\n",
       "    .dataframe tbody tr th:only-of-type {\n",
       "        vertical-align: middle;\n",
       "    }\n",
       "\n",
       "    .dataframe tbody tr th {\n",
       "        vertical-align: top;\n",
       "    }\n",
       "\n",
       "    .dataframe thead th {\n",
       "        text-align: right;\n",
       "    }\n",
       "</style>\n",
       "<table border=\"1\" class=\"dataframe\">\n",
       "  <thead>\n",
       "    <tr style=\"text-align: right;\">\n",
       "      <th></th>\n",
       "      <th>Survived</th>\n",
       "    </tr>\n",
       "    <tr>\n",
       "      <th>Embarked</th>\n",
       "      <th></th>\n",
       "    </tr>\n",
       "  </thead>\n",
       "  <tbody>\n",
       "    <tr>\n",
       "      <th>C</th>\n",
       "      <td>0.553571</td>\n",
       "    </tr>\n",
       "    <tr>\n",
       "      <th>Q</th>\n",
       "      <td>0.389610</td>\n",
       "    </tr>\n",
       "    <tr>\n",
       "      <th>S</th>\n",
       "      <td>0.339009</td>\n",
       "    </tr>\n",
       "  </tbody>\n",
       "</table>\n",
       "</div>"
      ],
      "text/plain": [
       "          Survived\n",
       "Embarked          \n",
       "C         0.553571\n",
       "Q         0.389610\n",
       "S         0.339009"
      ]
     },
     "execution_count": 851,
     "metadata": {},
     "output_type": "execute_result"
    }
   ],
   "source": [
    "train[['Embarked', 'Survived']].groupby(['Embarked']).mean()"
   ]
  },
  {
   "cell_type": "code",
   "execution_count": 852,
   "metadata": {},
   "outputs": [
    {
     "data": {
      "text/html": [
       "<div>\n",
       "<style scoped>\n",
       "    .dataframe tbody tr th:only-of-type {\n",
       "        vertical-align: middle;\n",
       "    }\n",
       "\n",
       "    .dataframe tbody tr th {\n",
       "        vertical-align: top;\n",
       "    }\n",
       "\n",
       "    .dataframe thead th {\n",
       "        text-align: right;\n",
       "    }\n",
       "</style>\n",
       "<table border=\"1\" class=\"dataframe\">\n",
       "  <thead>\n",
       "    <tr style=\"text-align: right;\">\n",
       "      <th></th>\n",
       "      <th>Survived</th>\n",
       "    </tr>\n",
       "    <tr>\n",
       "      <th>Section</th>\n",
       "      <th></th>\n",
       "    </tr>\n",
       "  </thead>\n",
       "  <tbody>\n",
       "    <tr>\n",
       "      <th>A</th>\n",
       "      <td>0.466667</td>\n",
       "    </tr>\n",
       "    <tr>\n",
       "      <th>B</th>\n",
       "      <td>0.744681</td>\n",
       "    </tr>\n",
       "    <tr>\n",
       "      <th>C</th>\n",
       "      <td>0.593220</td>\n",
       "    </tr>\n",
       "    <tr>\n",
       "      <th>D</th>\n",
       "      <td>0.757576</td>\n",
       "    </tr>\n",
       "    <tr>\n",
       "      <th>E</th>\n",
       "      <td>0.750000</td>\n",
       "    </tr>\n",
       "    <tr>\n",
       "      <th>F</th>\n",
       "      <td>0.615385</td>\n",
       "    </tr>\n",
       "    <tr>\n",
       "      <th>G</th>\n",
       "      <td>0.500000</td>\n",
       "    </tr>\n",
       "    <tr>\n",
       "      <th>T</th>\n",
       "      <td>0.000000</td>\n",
       "    </tr>\n",
       "    <tr>\n",
       "      <th>X</th>\n",
       "      <td>0.299854</td>\n",
       "    </tr>\n",
       "  </tbody>\n",
       "</table>\n",
       "</div>"
      ],
      "text/plain": [
       "         Survived\n",
       "Section          \n",
       "A        0.466667\n",
       "B        0.744681\n",
       "C        0.593220\n",
       "D        0.757576\n",
       "E        0.750000\n",
       "F        0.615385\n",
       "G        0.500000\n",
       "T        0.000000\n",
       "X        0.299854"
      ]
     },
     "execution_count": 852,
     "metadata": {},
     "output_type": "execute_result"
    }
   ],
   "source": [
    "train[['Section', 'Survived']].groupby(['Section']).mean()"
   ]
  },
  {
   "cell_type": "code",
   "execution_count": 853,
   "metadata": {},
   "outputs": [
    {
     "data": {
      "text/html": [
       "<div>\n",
       "<style scoped>\n",
       "    .dataframe tbody tr th:only-of-type {\n",
       "        vertical-align: middle;\n",
       "    }\n",
       "\n",
       "    .dataframe tbody tr th {\n",
       "        vertical-align: top;\n",
       "    }\n",
       "\n",
       "    .dataframe thead th {\n",
       "        text-align: right;\n",
       "    }\n",
       "</style>\n",
       "<table border=\"1\" class=\"dataframe\">\n",
       "  <thead>\n",
       "    <tr style=\"text-align: right;\">\n",
       "      <th></th>\n",
       "      <th>Survived</th>\n",
       "    </tr>\n",
       "    <tr>\n",
       "      <th>CategoryFare</th>\n",
       "      <th></th>\n",
       "    </tr>\n",
       "  </thead>\n",
       "  <tbody>\n",
       "    <tr>\n",
       "      <th>(-0.001, 7.896]</th>\n",
       "      <td>0.197309</td>\n",
       "    </tr>\n",
       "    <tr>\n",
       "      <th>(7.896, 14.454]</th>\n",
       "      <td>0.303571</td>\n",
       "    </tr>\n",
       "    <tr>\n",
       "      <th>(14.454, 31.275]</th>\n",
       "      <td>0.441048</td>\n",
       "    </tr>\n",
       "    <tr>\n",
       "      <th>(31.275, 512.329]</th>\n",
       "      <td>0.600000</td>\n",
       "    </tr>\n",
       "  </tbody>\n",
       "</table>\n",
       "</div>"
      ],
      "text/plain": [
       "                   Survived\n",
       "CategoryFare               \n",
       "(-0.001, 7.896]    0.197309\n",
       "(7.896, 14.454]    0.303571\n",
       "(14.454, 31.275]   0.441048\n",
       "(31.275, 512.329]  0.600000"
      ]
     },
     "execution_count": 853,
     "metadata": {},
     "output_type": "execute_result"
    }
   ],
   "source": [
    "all_data['CategoryFare'] = pd.qcut(all_data['Fare'], 4)\n",
    "train['CategoryFare'] = all_data['CategoryFare'][:891]\n",
    "test['CategoryFare'] = all_data['CategoryFare'][:891]\n",
    "train[['CategoryFare', 'Survived']].groupby(['CategoryFare']).mean()"
   ]
  },
  {
   "cell_type": "code",
   "execution_count": 854,
   "metadata": {},
   "outputs": [
    {
     "data": {
      "text/html": [
       "<div>\n",
       "<style scoped>\n",
       "    .dataframe tbody tr th:only-of-type {\n",
       "        vertical-align: middle;\n",
       "    }\n",
       "\n",
       "    .dataframe tbody tr th {\n",
       "        vertical-align: top;\n",
       "    }\n",
       "\n",
       "    .dataframe thead th {\n",
       "        text-align: right;\n",
       "    }\n",
       "</style>\n",
       "<table border=\"1\" class=\"dataframe\">\n",
       "  <thead>\n",
       "    <tr style=\"text-align: right;\">\n",
       "      <th></th>\n",
       "      <th>Survived</th>\n",
       "    </tr>\n",
       "    <tr>\n",
       "      <th>CategoryAge</th>\n",
       "      <th></th>\n",
       "    </tr>\n",
       "  </thead>\n",
       "  <tbody>\n",
       "    <tr>\n",
       "      <th>(0.169, 21.0]</th>\n",
       "      <td>0.427885</td>\n",
       "    </tr>\n",
       "    <tr>\n",
       "      <th>(21.0, 26.0]</th>\n",
       "      <td>0.430464</td>\n",
       "    </tr>\n",
       "    <tr>\n",
       "      <th>(26.0, 29.5]</th>\n",
       "      <td>0.217391</td>\n",
       "    </tr>\n",
       "    <tr>\n",
       "      <th>(29.5, 39.0]</th>\n",
       "      <td>0.472826</td>\n",
       "    </tr>\n",
       "    <tr>\n",
       "      <th>(39.0, 80.0]</th>\n",
       "      <td>0.371951</td>\n",
       "    </tr>\n",
       "  </tbody>\n",
       "</table>\n",
       "</div>"
      ],
      "text/plain": [
       "               Survived\n",
       "CategoryAge            \n",
       "(0.169, 21.0]  0.427885\n",
       "(21.0, 26.0]   0.430464\n",
       "(26.0, 29.5]   0.217391\n",
       "(29.5, 39.0]   0.472826\n",
       "(39.0, 80.0]   0.371951"
      ]
     },
     "execution_count": 854,
     "metadata": {},
     "output_type": "execute_result"
    }
   ],
   "source": [
    "all_data['CategoryAge'] = pd.qcut(all_data['Age'], 5)\n",
    "train['CategoryAge'] = all_data['CategoryAge'][:891]\n",
    "test['CategoryAge'] = all_data['CategoryAge'][:891]\n",
    "train[['CategoryAge', 'Survived']].groupby(['CategoryAge']).mean()"
   ]
  },
  {
   "cell_type": "code",
   "execution_count": 855,
   "metadata": {},
   "outputs": [
    {
     "data": {
      "text/html": [
       "<div>\n",
       "<style scoped>\n",
       "    .dataframe tbody tr th:only-of-type {\n",
       "        vertical-align: middle;\n",
       "    }\n",
       "\n",
       "    .dataframe tbody tr th {\n",
       "        vertical-align: top;\n",
       "    }\n",
       "\n",
       "    .dataframe thead th {\n",
       "        text-align: right;\n",
       "    }\n",
       "</style>\n",
       "<table border=\"1\" class=\"dataframe\">\n",
       "  <thead>\n",
       "    <tr style=\"text-align: right;\">\n",
       "      <th></th>\n",
       "      <th>Survived</th>\n",
       "    </tr>\n",
       "    <tr>\n",
       "      <th>Title</th>\n",
       "      <th></th>\n",
       "    </tr>\n",
       "  </thead>\n",
       "  <tbody>\n",
       "    <tr>\n",
       "      <th>Dr</th>\n",
       "      <td>0.428571</td>\n",
       "    </tr>\n",
       "    <tr>\n",
       "      <th>Master</th>\n",
       "      <td>0.560976</td>\n",
       "    </tr>\n",
       "    <tr>\n",
       "      <th>Miss</th>\n",
       "      <td>0.701087</td>\n",
       "    </tr>\n",
       "    <tr>\n",
       "      <th>Mr</th>\n",
       "      <td>0.160305</td>\n",
       "    </tr>\n",
       "    <tr>\n",
       "      <th>Mrs</th>\n",
       "      <td>0.798450</td>\n",
       "    </tr>\n",
       "    <tr>\n",
       "      <th>Rev</th>\n",
       "      <td>0.000000</td>\n",
       "    </tr>\n",
       "  </tbody>\n",
       "</table>\n",
       "</div>"
      ],
      "text/plain": [
       "        Survived\n",
       "Title           \n",
       "Dr      0.428571\n",
       "Master  0.560976\n",
       "Miss    0.701087\n",
       "Mr      0.160305\n",
       "Mrs     0.798450\n",
       "Rev     0.000000"
      ]
     },
     "execution_count": 855,
     "metadata": {},
     "output_type": "execute_result"
    }
   ],
   "source": [
    "train['Title'] = all_data['Title'][:891]\n",
    "test['Title'] = all_data['Title'][:891]\n",
    "train[['Title', 'Survived']].groupby(['Title']).mean()"
   ]
  },
  {
   "cell_type": "markdown",
   "metadata": {},
   "source": [
    "## Data transformation"
   ]
  },
  {
   "cell_type": "code",
   "execution_count": 856,
   "metadata": {},
   "outputs": [],
   "source": [
    "'''label = LabelEncoder()\n",
    "all_data['FareCode'] = label.fit_transform(all_data['CategoryFare'])\n",
    "train['FareCode'] = all_data['FareCode'][:891]\n",
    "test['FareCode'] = all_data['FareCode'][:891]\n",
    "train.drop(['Fare', 'CategoryFare'], axis=1, inplace=True)\n",
    "test.drop(['Fare', 'CategoryFare'], axis=1, inplace=True)'''\n",
    "all_data.loc[ all_data['Fare'] <= 7.896, 'Fare']                                    = 0\n",
    "all_data.loc[(all_data['Fare'] > 7.896) & (all_data['Fare'] <= 14.454), 'Fare']     = 1\n",
    "all_data.loc[(all_data['Fare'] > 14.454) & (all_data['Fare'] <= 31.275), 'Fare']     = 2\n",
    "all_data.loc[ all_data['Fare'] > 31.275, 'Fare']                                     = 3\n",
    "all_data['Fare'] = all_data['Fare'].astype(int)\n",
    "train['Fare'] = all_data['Fare'][:891]\n",
    "test['Fare'] = all_data['Fare'][:891]"
   ]
  },
  {
   "cell_type": "code",
   "execution_count": 857,
   "metadata": {},
   "outputs": [],
   "source": [
    "'''label = LabelEncoder()\n",
    "all_data['AgeCode'] = label.fit_transform(all_data['CategoryAge'])\n",
    "train['AgeCode'] = all_data['AgeCode'][:891]\n",
    "test['AgeCode'] = all_data['AgeCode'][:891]\n",
    "train.drop(['Age', 'CategoryAge'], axis=1, inplace=True)\n",
    "test.drop(['Age', 'CategoryAge'], axis=1, inplace=True)'''\n",
    "all_data.loc[ all_data['Age'] <= 21.0, 'Age']                               = 0\n",
    "all_data.loc[(all_data['Age'] > 21.0) & (all_data['Age'] <= 26.0), 'Age']   = 1\n",
    "all_data.loc[(all_data['Age'] > 26.0) & (all_data['Age'] <= 29.5), 'Age']   = 2\n",
    "all_data.loc[(all_data['Age'] > 29.5) & (all_data['Age'] <= 39.0), 'Age']   = 3\n",
    "all_data.loc[ all_data['Age'] > 39.0, 'Age']                               = 4\n",
    "all_data['Age'] = all_data['Age'].astype(int)\n",
    "train['Age'] = all_data['Age'][:891]\n",
    "test['Age'] = all_data['Age'][:891]\n"
   ]
  },
  {
   "cell_type": "code",
   "execution_count": 858,
   "metadata": {},
   "outputs": [],
   "source": [
    "'''label = LabelEncoder()\n",
    "all_data['SectionCode'] = label.fit_transform(all_data['Section'])\n",
    "train['SectionCode'] = all_data['SectionCode'][:891]\n",
    "test['SectionCode'] = all_data['SectionCode'][:891]\n",
    "train.drop(['Cabin', 'Section'], axis=1, inplace=True)\n",
    "test.drop(['Cabin', 'Section'], axis=1, inplace=True)'''\n",
    "all_data['Section'].replace(['A', 'B', 'C', 'D', 'E', 'F', 'G', 'T', 'X'], [1, 0, 1, 0, 0, 1, 1, 2, 2],inplace=True)\n",
    "train['Section'] = all_data['Section'][:891]\n",
    "test['Section'] = all_data['Section'][:891]"
   ]
  },
  {
   "cell_type": "code",
   "execution_count": 859,
   "metadata": {},
   "outputs": [],
   "source": [
    "'''label = LabelEncoder()\n",
    "all_data['TitleCode'] = label.fit_transform(all_data['Title'])\n",
    "train['TitleCode'] = all_data['TitleCode'][:891]\n",
    "test['TitleCode'] = all_data['TitleCode'][:891]\n",
    "train.drop(['Title', 'Name'], axis=1, inplace=True)\n",
    "test.drop(['Title', 'Name'], axis=1, inplace=True)'''\n",
    "all_data['Title'].replace(['Dr', 'Master', 'Miss', 'Mr', 'Mrs', 'Rev'], [4, 3, 1, 0, 2, 4],inplace=True)\n",
    "train['Title'] = all_data['Title'][:891]\n",
    "test['Title'] = all_data['Title'][:891]"
   ]
  },
  {
   "cell_type": "code",
   "execution_count": 860,
   "metadata": {},
   "outputs": [],
   "source": [
    "'''label = LabelEncoder()\n",
    "all_data['EmbarkedCode'] = label.fit_transform(all_data['Embarked'])\n",
    "train['EmbarkedCode'] = all_data['EmbarkedCode'][:891]\n",
    "test['EmbarkedCode'] = all_data['EmbarkedCode'][:891]\n",
    "train.drop(['Embarked'], axis=1, inplace=True)\n",
    "test.drop(['Embarked'], axis=1, inplace=True)'''\n",
    "all_data['Embarked'].replace(['C', 'Q', 'S'], [1, 2, 0],inplace=True)\n",
    "train['Embarked'] = all_data['Embarked'][:891]\n",
    "test['Embarked'] = all_data['Embarked'][:891]"
   ]
  },
  {
   "cell_type": "code",
   "execution_count": 861,
   "metadata": {},
   "outputs": [],
   "source": [
    "all_data['Sex'].replace(['female', 'male'], [0, 1],inplace=True)\n",
    "train['Sex'] = all_data['Sex'][:891]\n",
    "test['Sex'] = all_data['Sex'][:891]"
   ]
  },
  {
   "cell_type": "code",
   "execution_count": 862,
   "metadata": {},
   "outputs": [],
   "source": [
    "train.drop(['PassengerId', 'SibSp', 'Parch', 'Ticket'], axis=1, inplace=True)\n",
    "test.drop(['PassengerId', 'SibSp', 'Parch', 'Ticket'], axis=1, inplace=True)"
   ]
  },
  {
   "cell_type": "code",
   "execution_count": 863,
   "metadata": {},
   "outputs": [],
   "source": [
    "train.drop(['Name', 'Cabin', 'CategoryFare', 'CategoryAge'], axis=1, inplace=True)\n",
    "test.drop(['Name', 'Cabin', 'CategoryFare', 'CategoryAge'], axis=1, inplace=True)"
   ]
  },
  {
   "cell_type": "code",
   "execution_count": 864,
   "metadata": {},
   "outputs": [
    {
     "data": {
      "text/html": [
       "<div>\n",
       "<style scoped>\n",
       "    .dataframe tbody tr th:only-of-type {\n",
       "        vertical-align: middle;\n",
       "    }\n",
       "\n",
       "    .dataframe tbody tr th {\n",
       "        vertical-align: top;\n",
       "    }\n",
       "\n",
       "    .dataframe thead th {\n",
       "        text-align: right;\n",
       "    }\n",
       "</style>\n",
       "<table border=\"1\" class=\"dataframe\">\n",
       "  <thead>\n",
       "    <tr style=\"text-align: right;\">\n",
       "      <th></th>\n",
       "      <th>Survived</th>\n",
       "      <th>Pclass</th>\n",
       "      <th>Sex</th>\n",
       "      <th>Age</th>\n",
       "      <th>Fare</th>\n",
       "      <th>Embarked</th>\n",
       "      <th>Section</th>\n",
       "      <th>FamilySize</th>\n",
       "      <th>Alone</th>\n",
       "      <th>Title</th>\n",
       "    </tr>\n",
       "  </thead>\n",
       "  <tbody>\n",
       "    <tr>\n",
       "      <th>0</th>\n",
       "      <td>0</td>\n",
       "      <td>3</td>\n",
       "      <td>1</td>\n",
       "      <td>1</td>\n",
       "      <td>0</td>\n",
       "      <td>0</td>\n",
       "      <td>2</td>\n",
       "      <td>2</td>\n",
       "      <td>0</td>\n",
       "      <td>0</td>\n",
       "    </tr>\n",
       "    <tr>\n",
       "      <th>1</th>\n",
       "      <td>1</td>\n",
       "      <td>1</td>\n",
       "      <td>0</td>\n",
       "      <td>3</td>\n",
       "      <td>3</td>\n",
       "      <td>1</td>\n",
       "      <td>1</td>\n",
       "      <td>2</td>\n",
       "      <td>0</td>\n",
       "      <td>2</td>\n",
       "    </tr>\n",
       "    <tr>\n",
       "      <th>2</th>\n",
       "      <td>1</td>\n",
       "      <td>3</td>\n",
       "      <td>0</td>\n",
       "      <td>1</td>\n",
       "      <td>1</td>\n",
       "      <td>0</td>\n",
       "      <td>2</td>\n",
       "      <td>1</td>\n",
       "      <td>1</td>\n",
       "      <td>1</td>\n",
       "    </tr>\n",
       "    <tr>\n",
       "      <th>3</th>\n",
       "      <td>1</td>\n",
       "      <td>1</td>\n",
       "      <td>0</td>\n",
       "      <td>3</td>\n",
       "      <td>3</td>\n",
       "      <td>0</td>\n",
       "      <td>1</td>\n",
       "      <td>2</td>\n",
       "      <td>0</td>\n",
       "      <td>2</td>\n",
       "    </tr>\n",
       "    <tr>\n",
       "      <th>4</th>\n",
       "      <td>0</td>\n",
       "      <td>3</td>\n",
       "      <td>1</td>\n",
       "      <td>3</td>\n",
       "      <td>1</td>\n",
       "      <td>0</td>\n",
       "      <td>2</td>\n",
       "      <td>1</td>\n",
       "      <td>1</td>\n",
       "      <td>0</td>\n",
       "    </tr>\n",
       "  </tbody>\n",
       "</table>\n",
       "</div>"
      ],
      "text/plain": [
       "   Survived  Pclass  Sex  Age  Fare  Embarked  Section  FamilySize  Alone  \\\n",
       "0         0       3    1    1     0         0        2           2      0   \n",
       "1         1       1    0    3     3         1        1           2      0   \n",
       "2         1       3    0    1     1         0        2           1      1   \n",
       "3         1       1    0    3     3         0        1           2      0   \n",
       "4         0       3    1    3     1         0        2           1      1   \n",
       "\n",
       "   Title  \n",
       "0      0  \n",
       "1      2  \n",
       "2      1  \n",
       "3      2  \n",
       "4      0  "
      ]
     },
     "execution_count": 864,
     "metadata": {},
     "output_type": "execute_result"
    }
   ],
   "source": [
    "train.head()"
   ]
  },
  {
   "cell_type": "code",
   "execution_count": 865,
   "metadata": {},
   "outputs": [
    {
     "data": {
      "text/html": [
       "<div>\n",
       "<style scoped>\n",
       "    .dataframe tbody tr th:only-of-type {\n",
       "        vertical-align: middle;\n",
       "    }\n",
       "\n",
       "    .dataframe tbody tr th {\n",
       "        vertical-align: top;\n",
       "    }\n",
       "\n",
       "    .dataframe thead th {\n",
       "        text-align: right;\n",
       "    }\n",
       "</style>\n",
       "<table border=\"1\" class=\"dataframe\">\n",
       "  <thead>\n",
       "    <tr style=\"text-align: right;\">\n",
       "      <th></th>\n",
       "      <th>Pclass</th>\n",
       "      <th>Sex</th>\n",
       "      <th>Age</th>\n",
       "      <th>Fare</th>\n",
       "      <th>Embarked</th>\n",
       "      <th>Section</th>\n",
       "      <th>FamilySize</th>\n",
       "      <th>Alone</th>\n",
       "      <th>Title</th>\n",
       "    </tr>\n",
       "  </thead>\n",
       "  <tbody>\n",
       "    <tr>\n",
       "      <th>0</th>\n",
       "      <td>3</td>\n",
       "      <td>1</td>\n",
       "      <td>1</td>\n",
       "      <td>0</td>\n",
       "      <td>0</td>\n",
       "      <td>2</td>\n",
       "      <td>1</td>\n",
       "      <td>1</td>\n",
       "      <td>0</td>\n",
       "    </tr>\n",
       "    <tr>\n",
       "      <th>1</th>\n",
       "      <td>3</td>\n",
       "      <td>0</td>\n",
       "      <td>3</td>\n",
       "      <td>3</td>\n",
       "      <td>1</td>\n",
       "      <td>1</td>\n",
       "      <td>2</td>\n",
       "      <td>0</td>\n",
       "      <td>2</td>\n",
       "    </tr>\n",
       "    <tr>\n",
       "      <th>2</th>\n",
       "      <td>2</td>\n",
       "      <td>0</td>\n",
       "      <td>1</td>\n",
       "      <td>1</td>\n",
       "      <td>0</td>\n",
       "      <td>2</td>\n",
       "      <td>1</td>\n",
       "      <td>1</td>\n",
       "      <td>1</td>\n",
       "    </tr>\n",
       "    <tr>\n",
       "      <th>3</th>\n",
       "      <td>3</td>\n",
       "      <td>0</td>\n",
       "      <td>3</td>\n",
       "      <td>3</td>\n",
       "      <td>0</td>\n",
       "      <td>1</td>\n",
       "      <td>1</td>\n",
       "      <td>1</td>\n",
       "      <td>2</td>\n",
       "    </tr>\n",
       "    <tr>\n",
       "      <th>4</th>\n",
       "      <td>3</td>\n",
       "      <td>1</td>\n",
       "      <td>3</td>\n",
       "      <td>1</td>\n",
       "      <td>0</td>\n",
       "      <td>2</td>\n",
       "      <td>3</td>\n",
       "      <td>0</td>\n",
       "      <td>0</td>\n",
       "    </tr>\n",
       "  </tbody>\n",
       "</table>\n",
       "</div>"
      ],
      "text/plain": [
       "   Pclass  Sex  Age  Fare  Embarked  Section  FamilySize  Alone  Title\n",
       "0       3    1    1     0         0        2           1      1      0\n",
       "1       3    0    3     3         1        1           2      0      2\n",
       "2       2    0    1     1         0        2           1      1      1\n",
       "3       3    0    3     3         0        1           1      1      2\n",
       "4       3    1    3     1         0        2           3      0      0"
      ]
     },
     "execution_count": 865,
     "metadata": {},
     "output_type": "execute_result"
    }
   ],
   "source": [
    "test.head()"
   ]
  },
  {
   "cell_type": "markdown",
   "metadata": {},
   "source": [
    "# Models"
   ]
  },
  {
   "cell_type": "code",
   "execution_count": 866,
   "metadata": {},
   "outputs": [
    {
     "data": {
      "image/png": "[encoded data removed]",
      "text/plain": [
       "<Figure size 504x504 with 2 Axes>"
      ]
     },
     "metadata": {
      "needs_background": "light"
     },
     "output_type": "display_data"
    }
   ],
   "source": [
    "plt.figure(figsize=(7,7))\n",
    "sns.heatmap(train.corr(), cmap=\"RdYlBu\", \n",
    "    annot=True, square=True,\n",
    "    vmin=-1, vmax=1, fmt=\"+.3f\")\n",
    "plt.title(\"Correlation matrix for the train dataset\")\n",
    "plt.show()"
   ]
  },
  {
   "cell_type": "code",
   "execution_count": 867,
   "metadata": {},
   "outputs": [],
   "source": [
    "def concat_test_pred(y_test, y_pred):\n",
    "    \n",
    "    df_test = y_test.to_frame(name='Survived').reset_index().drop(columns='index')\n",
    "    df_pred = pd.Series(y_pred).to_frame(name='Prediction')\n",
    "    results = pd.concat([df_test, df_pred], axis=1)\n",
    "    \n",
    "    return results"
   ]
  },
  {
   "cell_type": "code",
   "execution_count": null,
   "metadata": {},
   "outputs": [],
   "source": [
    "def performance_metrics(results):\n",
    "    \n",
    "    positives = results[['Survived', 'Prediction']][results['Survived'] == 1]\n",
    "    negatives = results[['Survived', 'Prediction']][results['Survived'] == 0]\n",
    "    \n",
    "    true_negatives = negatives[negatives['Survived'] == negatives['Prediction']].shape[0]\n",
    "    false_positives = negatives[negatives['Survived'] != negatives['Prediction']].shape[0]\n",
    "    true_positives = positives[positives['Survived'] == positives['Prediction']].shape[0]\n",
    "    false_negatives = positives[positives['Survived'] != positives['Prediction']].shape[0]\n",
    "    \n",
    "    confusion_matrix = {'actual positives' : [true_positives, false_negatives], \n",
    "                        'actual negatives' : [false_positives, true_negatives]}\n",
    "    \n",
    "    confusion_matrix_df = pd.DataFrame.from_dict(confusion_matrix, orient='index', \n",
    "                                                 columns=['predicted positives', 'predicted negatives'])\n",
    "    \n",
    "    accuracy = (true_positives + true_negatives) / (true_positives + false_positives +  true_negatives + false_negatives)\n",
    "    precission = true_positives / (true_positives + false_positives)\n",
    "    recall = true_positives / (true_positives + false_negatives)\n",
    "    f1_score = 2 * (precission * recall) / (precission + recall)\n",
    "    \n",
    "    metrics = {'Accuracy' : accuracy, 'Precission' : precission, 'Recall' : recall, 'F1 Score' : f1_score}\n",
    "    \n",
    "    metrics_df = pd.DataFrame.from_dict(metrics, orient='index', columns=['Metrics'])\n",
    "    \n",
    "    return confusion_matrix_df, metrics_df  "
   ]
  },
  {
   "cell_type": "code",
   "execution_count": 868,
   "metadata": {},
   "outputs": [],
   "source": [
    "X = train.copy()\n",
    "#X.drop(['FamilySize', 'Age', 'Embarked', 'Alone', 'Title'], axis=1, inplace=True)\n",
    "X.drop(['Section'], axis=1, inplace=True)\n",
    "y = X['Survived']\n",
    "X.drop('Survived', axis=1, inplace=True)\n",
    "X_test = test.copy()\n",
    "#X_test.drop(['FamilySize', 'Age', 'Embarked', 'Alone', 'Title'], axis=1, inplace=True)\n",
    "X_test.drop(['Section'], axis=1, inplace=True)"
   ]
  },
  {
   "cell_type": "code",
   "execution_count": 869,
   "metadata": {},
   "outputs": [
    {
     "data": {
      "text/html": [
       "<div>\n",
       "<style scoped>\n",
       "    .dataframe tbody tr th:only-of-type {\n",
       "        vertical-align: middle;\n",
       "    }\n",
       "\n",
       "    .dataframe tbody tr th {\n",
       "        vertical-align: top;\n",
       "    }\n",
       "\n",
       "    .dataframe thead th {\n",
       "        text-align: right;\n",
       "    }\n",
       "</style>\n",
       "<table border=\"1\" class=\"dataframe\">\n",
       "  <thead>\n",
       "    <tr style=\"text-align: right;\">\n",
       "      <th></th>\n",
       "      <th>Pclass</th>\n",
       "      <th>Sex</th>\n",
       "      <th>Age</th>\n",
       "      <th>Fare</th>\n",
       "      <th>Embarked</th>\n",
       "      <th>FamilySize</th>\n",
       "      <th>Alone</th>\n",
       "      <th>Title</th>\n",
       "    </tr>\n",
       "  </thead>\n",
       "  <tbody>\n",
       "    <tr>\n",
       "      <th>0</th>\n",
       "      <td>3</td>\n",
       "      <td>1</td>\n",
       "      <td>1</td>\n",
       "      <td>0</td>\n",
       "      <td>0</td>\n",
       "      <td>2</td>\n",
       "      <td>0</td>\n",
       "      <td>0</td>\n",
       "    </tr>\n",
       "    <tr>\n",
       "      <th>1</th>\n",
       "      <td>1</td>\n",
       "      <td>0</td>\n",
       "      <td>3</td>\n",
       "      <td>3</td>\n",
       "      <td>1</td>\n",
       "      <td>2</td>\n",
       "      <td>0</td>\n",
       "      <td>2</td>\n",
       "    </tr>\n",
       "    <tr>\n",
       "      <th>2</th>\n",
       "      <td>3</td>\n",
       "      <td>0</td>\n",
       "      <td>1</td>\n",
       "      <td>1</td>\n",
       "      <td>0</td>\n",
       "      <td>1</td>\n",
       "      <td>1</td>\n",
       "      <td>1</td>\n",
       "    </tr>\n",
       "    <tr>\n",
       "      <th>3</th>\n",
       "      <td>1</td>\n",
       "      <td>0</td>\n",
       "      <td>3</td>\n",
       "      <td>3</td>\n",
       "      <td>0</td>\n",
       "      <td>2</td>\n",
       "      <td>0</td>\n",
       "      <td>2</td>\n",
       "    </tr>\n",
       "    <tr>\n",
       "      <th>4</th>\n",
       "      <td>3</td>\n",
       "      <td>1</td>\n",
       "      <td>3</td>\n",
       "      <td>1</td>\n",
       "      <td>0</td>\n",
       "      <td>1</td>\n",
       "      <td>1</td>\n",
       "      <td>0</td>\n",
       "    </tr>\n",
       "    <tr>\n",
       "      <th>...</th>\n",
       "      <td>...</td>\n",
       "      <td>...</td>\n",
       "      <td>...</td>\n",
       "      <td>...</td>\n",
       "      <td>...</td>\n",
       "      <td>...</td>\n",
       "      <td>...</td>\n",
       "      <td>...</td>\n",
       "    </tr>\n",
       "    <tr>\n",
       "      <th>886</th>\n",
       "      <td>2</td>\n",
       "      <td>1</td>\n",
       "      <td>2</td>\n",
       "      <td>1</td>\n",
       "      <td>0</td>\n",
       "      <td>1</td>\n",
       "      <td>1</td>\n",
       "      <td>4</td>\n",
       "    </tr>\n",
       "    <tr>\n",
       "      <th>887</th>\n",
       "      <td>1</td>\n",
       "      <td>0</td>\n",
       "      <td>0</td>\n",
       "      <td>2</td>\n",
       "      <td>0</td>\n",
       "      <td>1</td>\n",
       "      <td>1</td>\n",
       "      <td>1</td>\n",
       "    </tr>\n",
       "    <tr>\n",
       "      <th>888</th>\n",
       "      <td>3</td>\n",
       "      <td>0</td>\n",
       "      <td>1</td>\n",
       "      <td>2</td>\n",
       "      <td>0</td>\n",
       "      <td>4</td>\n",
       "      <td>0</td>\n",
       "      <td>1</td>\n",
       "    </tr>\n",
       "    <tr>\n",
       "      <th>889</th>\n",
       "      <td>1</td>\n",
       "      <td>1</td>\n",
       "      <td>1</td>\n",
       "      <td>2</td>\n",
       "      <td>1</td>\n",
       "      <td>1</td>\n",
       "      <td>1</td>\n",
       "      <td>0</td>\n",
       "    </tr>\n",
       "    <tr>\n",
       "      <th>890</th>\n",
       "      <td>3</td>\n",
       "      <td>1</td>\n",
       "      <td>3</td>\n",
       "      <td>0</td>\n",
       "      <td>2</td>\n",
       "      <td>1</td>\n",
       "      <td>1</td>\n",
       "      <td>0</td>\n",
       "    </tr>\n",
       "  </tbody>\n",
       "</table>\n",
       "<p>891 rows × 8 columns</p>\n",
       "</div>"
      ],
      "text/plain": [
       "     Pclass  Sex  Age  Fare  Embarked  FamilySize  Alone  Title\n",
       "0         3    1    1     0         0           2      0      0\n",
       "1         1    0    3     3         1           2      0      2\n",
       "2         3    0    1     1         0           1      1      1\n",
       "3         1    0    3     3         0           2      0      2\n",
       "4         3    1    3     1         0           1      1      0\n",
       "..      ...  ...  ...   ...       ...         ...    ...    ...\n",
       "886       2    1    2     1         0           1      1      4\n",
       "887       1    0    0     2         0           1      1      1\n",
       "888       3    0    1     2         0           4      0      1\n",
       "889       1    1    1     2         1           1      1      0\n",
       "890       3    1    3     0         2           1      1      0\n",
       "\n",
       "[891 rows x 8 columns]"
      ]
     },
     "execution_count": 869,
     "metadata": {},
     "output_type": "execute_result"
    }
   ],
   "source": [
    "X"
   ]
  },
  {
   "cell_type": "code",
   "execution_count": 870,
   "metadata": {},
   "outputs": [
    {
     "data": {
      "text/plain": [
       "'std_scaler = StandardScaler()\\nX = std_scaler.fit_transform(X)\\nX_test = std_scaler.transform(X_test)'"
      ]
     },
     "execution_count": 870,
     "metadata": {},
     "output_type": "execute_result"
    }
   ],
   "source": [
    "'''std_scaler = StandardScaler()\n",
    "X = std_scaler.fit_transform(X)\n",
    "X_test = std_scaler.transform(X_test)'''"
   ]
  },
  {
   "cell_type": "code",
   "execution_count": 871,
   "metadata": {},
   "outputs": [
    {
     "name": "stdout",
     "output_type": "stream",
     "text": [
      "Model Accuracy:  89.45\n"
     ]
    }
   ],
   "source": [
    "decision_tree = tree.DecisionTreeClassifier()\n",
    "decision_tree.fit(X, y)\n",
    "y_pred_tree = decision_tree.predict(X_test)\n",
    "accuracy = round(decision_tree.score(X, y) * 100, 2)\n",
    "print(\"Model Accuracy: \", accuracy)"
   ]
  },
  {
   "cell_type": "code",
   "execution_count": 872,
   "metadata": {},
   "outputs": [
    {
     "name": "stdout",
     "output_type": "stream",
     "text": [
      "Model Accuracy:  89.45\n"
     ]
    }
   ],
   "source": [
    "random_model = RandomForestClassifier().fit(X, y)\n",
    "y_pred_rand = random_model.predict(X_test)\n",
    "accuracy = round(random_model.score(X, y) * 100, 2)\n",
    "print(\"Model Accuracy: \", accuracy)"
   ]
  },
  {
   "cell_type": "code",
   "execution_count": 873,
   "metadata": {},
   "outputs": [
    {
     "name": "stdout",
     "output_type": "stream",
     "text": [
      "Model Accuracy:  85.07\n"
     ]
    }
   ],
   "source": [
    "knn = KNeighborsClassifier(algorithm='auto', leaf_size=26, metric='minkowski', \n",
    "                           metric_params=None, n_jobs=1, n_neighbors=6, p=2, \n",
    "                           weights='uniform')\n",
    "knn.fit(X, y)\n",
    "y_pred_knn = knn.predict(X_test)\n",
    "accuracy = round(knn.score(X, y) * 100, 2)\n",
    "print(\"Model Accuracy: \", accuracy)"
   ]
  },
  {
   "cell_type": "code",
   "execution_count": 874,
   "metadata": {},
   "outputs": [
    {
     "name": "stdout",
     "output_type": "stream",
     "text": [
      "Model Accuracy:  89.11\n"
     ]
    }
   ],
   "source": [
    "xgb_model = XGBClassifier(use_label_encoder=False, eval_metric='error').fit(X, y)\n",
    "y_pred_xgb = xgb_model.predict(X_test)\n",
    "accuracy = round(xgb_model.score(X, y) * 100, 2)\n",
    "print(\"Model Accuracy: \", accuracy)"
   ]
  },
  {
   "cell_type": "code",
   "execution_count": null,
   "metadata": {},
   "outputs": [],
   "source": [
    "from sklearn.model_selection import RandomizedSearchCV"
   ]
  },
  {
   "cell_type": "code",
   "execution_count": 875,
   "metadata": {},
   "outputs": [
    {
     "data": {
      "text/plain": [
       "\"# Number of trees in random forest\\nn_estimators = np.linspace(100, 3000, int((3000-100)/200) + 1, dtype=int)\\n# Number of features to consider at every split\\nmax_features = ['auto', 'sqrt']\\n# Maximum number of levels in tree\\nmax_depth = [1, 5, 10, 20, 50, 75, 100, 150, 200]\\n# Minimum number of samples required to split a node\\n# min_samples_split = [int(x) for x in np.linspace(start = 2, stop = 10, num = 9)]\\nmin_samples_split = [1, 2, 5, 10, 15, 20, 30]\\n# Minimum number of samples required at each leaf node\\nmin_samples_leaf = [1, 2, 3, 4]\\n# Method of selecting samples for training each tree\\nbootstrap = [True, False]\\n# Criterion\\ncriterion=['gini', 'entropy']\\nrandom_grid = {'n_estimators': n_estimators,\\n#                'max_features': max_features,\\n               'max_depth': max_depth,\\n               'min_samples_split': min_samples_split,\\n               'min_samples_leaf': min_samples_leaf,\\n               'bootstrap': bootstrap,\\n               'criterion': criterion}\""
      ]
     },
     "execution_count": 875,
     "metadata": {},
     "output_type": "execute_result"
    }
   ],
   "source": [
    "'''# Number of trees in random forest\n",
    "n_estimators = np.linspace(100, 3000, int((3000-100)/200) + 1, dtype=int)\n",
    "# Number of features to consider at every split\n",
    "max_features = ['auto', 'sqrt']\n",
    "# Maximum number of levels in tree\n",
    "max_depth = [1, 5, 10, 20, 50, 75, 100, 150, 200]\n",
    "# Minimum number of samples required to split a node\n",
    "# min_samples_split = [int(x) for x in np.linspace(start = 2, stop = 10, num = 9)]\n",
    "min_samples_split = [1, 2, 5, 10, 15, 20, 30]\n",
    "# Minimum number of samples required at each leaf node\n",
    "min_samples_leaf = [1, 2, 3, 4]\n",
    "# Method of selecting samples for training each tree\n",
    "bootstrap = [True, False]\n",
    "# Criterion\n",
    "criterion=['gini', 'entropy']\n",
    "random_grid = {'n_estimators': n_estimators,\n",
    "#                'max_features': max_features,\n",
    "               'max_depth': max_depth,\n",
    "               'min_samples_split': min_samples_split,\n",
    "               'min_samples_leaf': min_samples_leaf,\n",
    "               'bootstrap': bootstrap,\n",
    "               'criterion': criterion}'''"
   ]
  },
  {
   "cell_type": "code",
   "execution_count": 876,
   "metadata": {},
   "outputs": [
    {
     "data": {
      "text/plain": [
       "\"{'n_estimators': np.array([ 100,  307,  514,  721,  928, 1135, 1342, 1550, 1757, 1964, 2171,\\n        2378, 2585, 2792, 3000]),\\n 'max_depth': [1, 5, 10, 20, 50, 75, 100, 150, 200],\\n 'min_samples_split': [1, 2, 5, 10, 15, 20, 30],\\n 'min_samples_leaf': [1, 2, 3, 4],\\n 'bootstrap': [True, False],\\n 'criterion': ['gini', 'entropy']}\""
      ]
     },
     "execution_count": 876,
     "metadata": {},
     "output_type": "execute_result"
    }
   ],
   "source": [
    "'''{'n_estimators': np.array([ 100,  307,  514,  721,  928, 1135, 1342, 1550, 1757, 1964, 2171,\n",
    "        2378, 2585, 2792, 3000]),\n",
    " 'max_depth': [1, 5, 10, 20, 50, 75, 100, 150, 200],\n",
    " 'min_samples_split': [1, 2, 5, 10, 15, 20, 30],\n",
    " 'min_samples_leaf': [1, 2, 3, 4],\n",
    " 'bootstrap': [True, False],\n",
    " 'criterion': ['gini', 'entropy']}'''"
   ]
  },
  {
   "cell_type": "code",
   "execution_count": 877,
   "metadata": {},
   "outputs": [
    {
     "data": {
      "text/plain": [
       "'rf_base = RandomForestClassifier()\\nrf_random = RandomizedSearchCV(estimator = rf_base,\\n                               param_distributions = random_grid,\\n                               n_iter = 30, cv = 5,\\n                               verbose=2,\\n                               random_state=42, n_jobs = 4)\\n\\nrf_random.fit(X_train, y_train)\\ny_pred_rf = rf_random.predict(X_test)'"
      ]
     },
     "execution_count": 877,
     "metadata": {},
     "output_type": "execute_result"
    }
   ],
   "source": [
    "'''rf_base = RandomForestClassifier()\n",
    "rf_random = RandomizedSearchCV(estimator = rf_base,\n",
    "                               param_distributions = random_grid,\n",
    "                               n_iter = 30, cv = 5,\n",
    "                               verbose=2,\n",
    "                               random_state=42, n_jobs = 4)\n",
    "\n",
    "rf_random.fit(X_train, y_train)\n",
    "y_pred_rf = rf_random.predict(X_test)'''"
   ]
  },
  {
   "cell_type": "code",
   "execution_count": 878,
   "metadata": {},
   "outputs": [],
   "source": [
    "test_df = pd.read_csv('test.csv')"
   ]
  },
  {
   "cell_type": "code",
   "execution_count": 879,
   "metadata": {},
   "outputs": [],
   "source": [
    "results = pd.DataFrame(test_df['PassengerId'])\n",
    "results['Survived'] = y_pred_tree\n",
    "results.to_csv('ResultsTree_Final2.csv', index=False)"
   ]
  },
  {
   "cell_type": "code",
   "execution_count": 880,
   "metadata": {},
   "outputs": [
    {
     "data": {
      "text/html": [
       "<div>\n",
       "<style scoped>\n",
       "    .dataframe tbody tr th:only-of-type {\n",
       "        vertical-align: middle;\n",
       "    }\n",
       "\n",
       "    .dataframe tbody tr th {\n",
       "        vertical-align: top;\n",
       "    }\n",
       "\n",
       "    .dataframe thead th {\n",
       "        text-align: right;\n",
       "    }\n",
       "</style>\n",
       "<table border=\"1\" class=\"dataframe\">\n",
       "  <thead>\n",
       "    <tr style=\"text-align: right;\">\n",
       "      <th></th>\n",
       "      <th>PassengerId</th>\n",
       "      <th>Survived</th>\n",
       "    </tr>\n",
       "  </thead>\n",
       "  <tbody>\n",
       "    <tr>\n",
       "      <th>0</th>\n",
       "      <td>892</td>\n",
       "      <td>0</td>\n",
       "    </tr>\n",
       "    <tr>\n",
       "      <th>1</th>\n",
       "      <td>893</td>\n",
       "      <td>0</td>\n",
       "    </tr>\n",
       "    <tr>\n",
       "      <th>2</th>\n",
       "      <td>894</td>\n",
       "      <td>0</td>\n",
       "    </tr>\n",
       "    <tr>\n",
       "      <th>3</th>\n",
       "      <td>895</td>\n",
       "      <td>0</td>\n",
       "    </tr>\n",
       "    <tr>\n",
       "      <th>4</th>\n",
       "      <td>896</td>\n",
       "      <td>0</td>\n",
       "    </tr>\n",
       "    <tr>\n",
       "      <th>...</th>\n",
       "      <td>...</td>\n",
       "      <td>...</td>\n",
       "    </tr>\n",
       "    <tr>\n",
       "      <th>413</th>\n",
       "      <td>1305</td>\n",
       "      <td>0</td>\n",
       "    </tr>\n",
       "    <tr>\n",
       "      <th>414</th>\n",
       "      <td>1306</td>\n",
       "      <td>0</td>\n",
       "    </tr>\n",
       "    <tr>\n",
       "      <th>415</th>\n",
       "      <td>1307</td>\n",
       "      <td>0</td>\n",
       "    </tr>\n",
       "    <tr>\n",
       "      <th>416</th>\n",
       "      <td>1308</td>\n",
       "      <td>0</td>\n",
       "    </tr>\n",
       "    <tr>\n",
       "      <th>417</th>\n",
       "      <td>1309</td>\n",
       "      <td>1</td>\n",
       "    </tr>\n",
       "  </tbody>\n",
       "</table>\n",
       "<p>418 rows × 2 columns</p>\n",
       "</div>"
      ],
      "text/plain": [
       "     PassengerId  Survived\n",
       "0            892         0\n",
       "1            893         0\n",
       "2            894         0\n",
       "3            895         0\n",
       "4            896         0\n",
       "..           ...       ...\n",
       "413         1305         0\n",
       "414         1306         0\n",
       "415         1307         0\n",
       "416         1308         0\n",
       "417         1309         1\n",
       "\n",
       "[418 rows x 2 columns]"
      ]
     },
     "execution_count": 880,
     "metadata": {},
     "output_type": "execute_result"
    }
   ],
   "source": [
    "results"
   ]
  },
  {
   "cell_type": "code",
   "execution_count": null,
   "metadata": {},
   "outputs": [],
   "source": []
  }
 ],
 "metadata": {
  "kernelspec": {
   "display_name": "Python 3.9.12 64-bit (windows store)",
   "language": "python",
   "name": "python3"
  },
  "language_info": {
   "codemirror_mode": {
    "name": "ipython",
    "version": 3
   },
   "file_extension": ".py",
   "mimetype": "text/x-python",
   "name": "python",
   "nbconvert_exporter": "python",
   "pygments_lexer": "ipython3",
   "version": "3.9.13"
  },
  "orig_nbformat": 4,
  "vscode": {
   "interpreter": {
    "hash": "3adad671df1d630d7d71a6284a2456155b86b063810ffc58aaf34f413ff7f514"
   }
  }
 },
 "nbformat": 4,
 "nbformat_minor": 2
}
